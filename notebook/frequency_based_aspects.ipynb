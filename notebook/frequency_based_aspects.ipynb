{
 "cells": [
  {
   "cell_type": "code",
   "execution_count": 28,
   "metadata": {
    "collapsed": false
   },
   "outputs": [],
   "source": [
    "import json\n",
    "import sys\n",
    "sys.path.insert(0, '../src')\n",
    "from preProcess import pickleFile, pickleFolder\n",
    "import FileOperations\n",
    "(restaurantTrainDict,restaurantTestDict,laptopTrainDict, laptopTestDict) = \\\n",
    "                                FileOperations.loadAndGetRawDataFromPickle(pickleFolder, pickleFile)\n",
    "\n",
    "\n",
    "lptp_train_sentences = laptopTrainDict['sentences']\n",
    "\n",
    "\n",
    "# count word frequence\n",
    "lptp_aspect_dict = {}\n",
    "\n",
    "def put_poss_aspect(aspects, word):\n",
    "    word = word.lower()\n",
    "    if word in aspects:\n",
    "        aspects[word] += 1\n",
    "    else:\n",
    "        aspects[word] = 1\n",
    "\n",
    "# Consider NNP ?\n",
    "for sentence in lptp_train:\n",
    "    for item in sentence:\n",
    "        tag = item[1]\n",
    "        word = item[0]\n",
    "        if tag == 'NN' or tag == 'NNS':\n",
    "            put_aspect(lptp_aspect_dict, word)\n",
    "\n",
    "\n",
    "# remove low frequent words\n",
    "del_list = []\n",
    "for word in lptp_aspect_dict:\n",
    "    freq = lptp_aspect_dict[word]\n",
    "    if freq < 0.01*len(lptp_train):\n",
    "        del_list.append(word)\n",
    "for word in del_list:\n",
    "    del lptp_aspect_dict[word]\n"
   ]
  },
  {
   "cell_type": "code",
   "execution_count": 29,
   "metadata": {
    "collapsed": false
   },
   "outputs": [
    {
     "data": {
      "text/plain": [
       "52"
      ]
     },
     "execution_count": 29,
     "metadata": {},
     "output_type": "execute_result"
    }
   ],
   "source": [
    "len(lptp_aspect_dict)"
   ]
  },
  {
   "cell_type": "code",
   "execution_count": 31,
   "metadata": {
    "collapsed": false
   },
   "outputs": [],
   "source": [
    "# check \n",
    "# load laptop trial data\n",
    "lptp_trial = open('../taged-data/taged-laptops-trial.json.pure', 'r')\n",
    "contents = lptp_trial.readlines()\n",
    "lptp_trial_json = []\n",
    "for line in contents:\n",
    "    lptp_trial_json.append(json.loads(line))\n",
    "lptp_trial.close()\n",
    "lptp_trial = lptp_trial_json\n",
    "\n",
    "# \n",
    "aspects_trial = []\n",
    "for sentence in lptp_trial:\n",
    "    aspects = []\n",
    "    for item in sentence:\n",
    "        word = item[0]\n",
    "        if word in lptp_aspect_dict:\n",
    "            aspects.append(word)\n",
    "    aspects_trial.append(aspects)\n"
   ]
  },
  {
   "cell_type": "code",
   "execution_count": 35,
   "metadata": {
    "collapsed": false
   },
   "outputs": [],
   "source": [
    "# load labeled trial data\n",
    "from bs4 import BeautifulSoup as Soup\n",
    "lptp_trial = Soup(open('../data/laptops-trial.xml', 'r'), \"lxml\")\n",
    "sentences = lptp_trial.findAll('sentence')\n",
    "\n",
    "all_aspects = []\n",
    "for s in sentences:\n",
    "    aspects = s.findAll('aspectterm')\n",
    "    terms = []\n",
    "    for a in aspects:\n",
    "        terms.append(a['term'])\n",
    "    all_aspects.append(terms)\n"
   ]
  },
  {
   "cell_type": "code",
   "execution_count": 36,
   "metadata": {
    "collapsed": false,
    "scrolled": false
   },
   "outputs": [
    {
     "name": "stdout",
     "output_type": "stream",
     "text": [
      "[] ['aluminum body']\n",
      "['screen'] ['screen']\n",
      "['it', 'it', 'it'] []\n",
      "['quality', 'everything', 'it'] ['build quality', 'performance']\n",
      "['everything', 'computer', 'it'] []\n",
      "['it'] []\n",
      "['computer', 'one'] ['costing']\n",
      "['laptop', 'it'] []\n",
      "['laptop'] []\n",
      "[] ['Boots up', 'runs']\n",
      "['it'] ['tech support']\n",
      "[] []\n",
      "[] []\n",
      "['service'] ['service']\n",
      "['it', 'internet', 'thing', 'i'] ['internet speed']\n",
      "[] []\n",
      "['laptop', 'months', 'i', 'im'] []\n",
      "['laptop'] []\n",
      "['screen'] ['screen']\n",
      "[] []\n",
      "['battery', 'life', 'it', 'im'] ['battery life']\n",
      "['price', 'features'] ['price', 'features']\n",
      "['mouse'] ['mouse buttons']\n",
      "['time', 'money'] []\n",
      "['product', 'years'] []\n",
      "['it', 'use'] []\n",
      "[] []\n",
      "[] []\n",
      "[] ['design']\n",
      "['service', 'it'] ['technical service']\n",
      "[] ['built in camera']\n",
      "[] []\n",
      "['use'] ['Keyboard']\n",
      "[] ['wifi']\n",
      "['product'] []\n",
      "[] []\n",
      "['mac'] []\n",
      "[] []\n",
      "[] []\n",
      "[] []\n",
      "[] []\n",
      "['issue'] ['Games']\n",
      "[] []\n",
      "['price', 'laptop'] ['price']\n",
      "['it', 'price', 'it', 'software', 'it'] ['price tag', 'software', 'updates']\n",
      "['product', 'price'] ['price']\n",
      "[] ['speed']\n",
      "['laptop'] []\n",
      "['it'] []\n",
      "[] ['twin packing', 'functions']\n",
      "['laptop'] ['switchable graphic card', 'gaming']\n",
      "['battery', 'life'] ['battery life']\n",
      "['problem'] []\n",
      "['drive'] ['speed', 'hard drive space']\n",
      "['issue'] ['driver updates']\n",
      "['everything', 'problem'] []\n",
      "[] []\n",
      "['it', 'features', 'it'] ['features']\n",
      "['its'] []\n",
      "['power', 'computer', 'it'] []\n",
      "['laptop', 'its'] ['performance']\n",
      "['way'] []\n",
      "[] []\n",
      "['it', 'i', 'it'] []\n",
      "['it', 'it', 'it'] []\n",
      "['its', 'it'] []\n",
      "[] []\n",
      "['product'] []\n",
      "[] ['GarageBand']\n",
      "['mac', 'laptop', 'price'] ['price']\n",
      "['product'] []\n",
      "['laptop', 'it'] []\n",
      "[] []\n",
      "['it'] []\n",
      "[] []\n",
      "[] []\n",
      "[] []\n",
      "['laptop', 'it', 'way', 'i', 'it'] []\n",
      "['work'] []\n",
      "[] []\n",
      "['money', 'its'] []\n",
      "['it', 'it'] []\n",
      "[] []\n",
      "[] []\n",
      "['warranty', 'problem'] ['extended warranty']\n",
      "['machine'] ['support']\n",
      "['laptop'] []\n",
      "[] []\n",
      "['screen'] ['glass screen']\n",
      "[] ['technical support']\n",
      "['work', 'it', 'laptop'] []\n",
      "['laptop'] []\n",
      "['it', 'it', 'problems'] []\n",
      "['computer'] ['staff']\n",
      "['product'] []\n",
      "['computer'] []\n",
      "['thing', 'mac', 'programs'] ['programs']\n",
      "['issue'] ['Wireless']\n",
      "['battery', 'life', 'programs'] ['battery life', 'background programs']\n",
      "['price'] ['price']\n"
     ]
    }
   ],
   "source": [
    "# combine for easy comparing\n",
    "for i in range(len(aspects_trial)):\n",
    "    print(aspects_trial[i], all_aspects[i])"
   ]
  },
  {
   "cell_type": "code",
   "execution_count": 1,
   "metadata": {
    "collapsed": false
   },
   "outputs": [
    {
     "ename": "SyntaxError",
     "evalue": "invalid syntax (<ipython-input-1-2b6ecef984b6>, line 1)",
     "output_type": "error",
     "traceback": [
      "\u001b[0;36m  File \u001b[0;32m\"<ipython-input-1-2b6ecef984b6>\"\u001b[0;36m, line \u001b[0;32m1\u001b[0m\n\u001b[0;31m    from ../src/preProcess import pickleFile, pickleFolder\u001b[0m\n\u001b[0m           ^\u001b[0m\n\u001b[0;31mSyntaxError\u001b[0m\u001b[0;31m:\u001b[0m invalid syntax\n"
     ]
    }
   ],
   "source": [
    "from ../src/preProcess import pickleFile, pickleFolder"
   ]
  },
  {
   "cell_type": "code",
   "execution_count": 2,
   "metadata": {
    "collapsed": true
   },
   "outputs": [],
   "source": [
    "import sys\n",
    "sys.path.insert(0, '../src')"
   ]
  },
  {
   "cell_type": "code",
   "execution_count": 3,
   "metadata": {
    "collapsed": false
   },
   "outputs": [
    {
     "name": "stdout",
     "output_type": "stream",
     "text": [
      "all data loaded in python dicts\n"
     ]
    }
   ],
   "source": [
    "from preProcess import pickleFile, pickleFolder\n",
    "import FileOperations\n",
    "(restaurantTrainDict,restaurantTestDict,laptopTrainDict, laptopTestDict) = \\\n",
    "                                FileOperations.loadAndGetRawDataFromPickle(pickleFolder, pickleFile)"
   ]
  },
  {
   "cell_type": "code",
   "execution_count": 10,
   "metadata": {
    "collapsed": false
   },
   "outputs": [
    {
     "data": {
      "text/plain": [
       "[('But', 'CC'),\n",
       " ('the', 'DT'),\n",
       " ('staff', 'NN'),\n",
       " ('was', 'VBD'),\n",
       " ('so', 'RB'),\n",
       " ('horrible', 'JJ'),\n",
       " ('to', 'TO'),\n",
       " ('us.', 'VB')]"
      ]
     },
     "execution_count": 10,
     "metadata": {},
     "output_type": "execute_result"
    }
   ],
   "source": [
    "restaurantTrainDict['sentences']['sentence'][0]['POStaggedText']"
   ]
  },
  {
   "cell_type": "code",
   "execution_count": 26,
   "metadata": {
    "collapsed": false
   },
   "outputs": [],
   "source": [
    "from imp import reload\n",
    "import frequencyBased as fqb\n",
    "fqb = reload(fqb)"
   ]
  },
  {
   "cell_type": "code",
   "execution_count": 27,
   "metadata": {
    "collapsed": false
   },
   "outputs": [
    {
     "name": "stdout",
     "output_type": "stream",
     "text": [
      "all data loaded in python dicts\n"
     ]
    }
   ],
   "source": [
    "rst_asp, lptp_asp = fqb.get_vocabulary()"
   ]
  },
  {
   "cell_type": "code",
   "execution_count": 28,
   "metadata": {
    "collapsed": false
   },
   "outputs": [
    {
     "data": {
      "text/plain": [
       "3303"
      ]
     },
     "execution_count": 28,
     "metadata": {},
     "output_type": "execute_result"
    }
   ],
   "source": [
    "len(lptp_asp)"
   ]
  },
  {
   "cell_type": "code",
   "execution_count": 62,
   "metadata": {
    "collapsed": false
   },
   "outputs": [],
   "source": [
    "from nltk.parse.stanford import StanfordDependencyParser\n",
    "from nltk.tag.stanford import StanfordPOSTagger\n",
    "\n",
    "import os\n",
    "os.environ['CLASSPATH']='/Users/zarzen/Development/stanford-parser-full-2015-12-09:/Users/zarzen/Development/CSE498-Proj1/LEX_POS_NER/stanford-postagger-2015-12-09'\n",
    "os.environ['STANFORD_MODELS']='/Users/zarzen/Development/CSE498-Proj1/LEX_POS_NER/stanford-postagger-2015-12-09/models'\n",
    "\n",
    "dep_parser=StanfordDependencyParser(model_path=\"edu/stanford/nlp/models/lexparser/englishPCFG.ser.gz\")\n",
    "st = StanfordPOSTagger('english-bidirectional-distsim.tagger')\n"
   ]
  },
  {
   "cell_type": "code",
   "execution_count": 33,
   "metadata": {
    "collapsed": false
   },
   "outputs": [
    {
     "data": {
      "text/plain": [
       "[Tree('jumps', [Tree('fox', ['The', 'quick', 'brown']), Tree('dog', ['over', 'the', 'lazy'])])]"
      ]
     },
     "execution_count": 33,
     "metadata": {},
     "output_type": "execute_result"
    }
   ],
   "source": [
    "[parse.tree() for parse in dep_parser.raw_parse(\"The quick brown fox jumps over the lazy dog.\")] "
   ]
  },
  {
   "cell_type": "code",
   "execution_count": 56,
   "metadata": {
    "collapsed": false,
    "scrolled": true
   },
   "outputs": [
    {
     "name": "stdout",
     "output_type": "stream",
     "text": [
      "[('But', 'CC'), ('the', 'DT'), ('staff', 'NN'), ('was', 'VBD'), ('so', 'RB'), ('horrible', 'JJ'), ('to', 'TO'), ('us.', 'VB')]\n",
      "defaultdict(<function DependencyGraph.__init__.<locals>.<lambda> at 0x1129edc80>,\n",
      "            {0: {'address': 0,\n",
      "                 'ctag': 'TOP',\n",
      "                 'deps': defaultdict(<class 'list'>, {'root': [6]}),\n",
      "                 'feats': None,\n",
      "                 'head': None,\n",
      "                 'lemma': None,\n",
      "                 'rel': None,\n",
      "                 'tag': 'TOP',\n",
      "                 'word': None},\n",
      "             1: {'address': 1,\n",
      "                 'ctag': 'CC',\n",
      "                 'deps': defaultdict(<class 'list'>, {}),\n",
      "                 'feats': '_',\n",
      "                 'head': 6,\n",
      "                 'lemma': '_',\n",
      "                 'rel': 'cc',\n",
      "                 'tag': 'CC',\n",
      "                 'word': 'But'},\n",
      "             2: {'address': 2,\n",
      "                 'ctag': 'DT',\n",
      "                 'deps': defaultdict(<class 'list'>, {}),\n",
      "                 'feats': '_',\n",
      "                 'head': 3,\n",
      "                 'lemma': '_',\n",
      "                 'rel': 'det',\n",
      "                 'tag': 'DT',\n",
      "                 'word': 'the'},\n",
      "             3: {'address': 3,\n",
      "                 'ctag': 'NN',\n",
      "                 'deps': defaultdict(<class 'list'>, {'det': [2]}),\n",
      "                 'feats': '_',\n",
      "                 'head': 6,\n",
      "                 'lemma': '_',\n",
      "                 'rel': 'nsubj',\n",
      "                 'tag': 'NN',\n",
      "                 'word': 'staff'},\n",
      "             4: {'address': 4,\n",
      "                 'ctag': 'VBD',\n",
      "                 'deps': defaultdict(<class 'list'>, {}),\n",
      "                 'feats': '_',\n",
      "                 'head': 6,\n",
      "                 'lemma': '_',\n",
      "                 'rel': 'cop',\n",
      "                 'tag': 'VBD',\n",
      "                 'word': 'was'},\n",
      "             5: {'address': 5,\n",
      "                 'ctag': 'RB',\n",
      "                 'deps': defaultdict(<class 'list'>, {}),\n",
      "                 'feats': '_',\n",
      "                 'head': 6,\n",
      "                 'lemma': '_',\n",
      "                 'rel': 'advmod',\n",
      "                 'tag': 'RB',\n",
      "                 'word': 'so'},\n",
      "             6: {'address': 6,\n",
      "                 'ctag': 'JJ',\n",
      "                 'deps': defaultdict(<class 'list'>,\n",
      "                                     {'advmod': [5],\n",
      "                                      'cc': [1],\n",
      "                                      'cop': [4],\n",
      "                                      'nsubj': [3],\n",
      "                                      'xcomp': [8]}),\n",
      "                 'feats': '_',\n",
      "                 'head': 0,\n",
      "                 'lemma': '_',\n",
      "                 'rel': 'root',\n",
      "                 'tag': 'JJ',\n",
      "                 'word': 'horrible'},\n",
      "             7: {'address': 7,\n",
      "                 'ctag': 'TO',\n",
      "                 'deps': defaultdict(<class 'list'>, {}),\n",
      "                 'feats': '_',\n",
      "                 'head': 8,\n",
      "                 'lemma': '_',\n",
      "                 'rel': 'mark',\n",
      "                 'tag': 'TO',\n",
      "                 'word': 'to'},\n",
      "             8: {'address': 8,\n",
      "                 'ctag': 'VB',\n",
      "                 'deps': defaultdict(<class 'list'>, {'mark': [7]}),\n",
      "                 'feats': '_',\n",
      "                 'head': 6,\n",
      "                 'lemma': '_',\n",
      "                 'rel': 'xcomp',\n",
      "                 'tag': 'VB',\n",
      "                 'word': 'us.'}})\n"
     ]
    }
   ],
   "source": [
    "sss = restaurantTrainDict['sentences']['sentence'][0]['POStaggedText']\n",
    "print(sss)\n",
    "dep_g = dep_parser.tagged_parse(sss)\n",
    "#print(dep_parser._make_tree(dep_g))\n",
    "\n",
    "for i in dep_g:\n",
    "    print(i)"
   ]
  },
  {
   "cell_type": "code",
   "execution_count": 52,
   "metadata": {
    "collapsed": false
   },
   "outputs": [
    {
     "data": {
      "text/plain": [
       "{'POStaggedText': [('But', 'CC'),\n",
       "  ('the', 'DT'),\n",
       "  ('staff', 'NN'),\n",
       "  ('was', 'VBD'),\n",
       "  ('so', 'RB'),\n",
       "  ('horrible', 'JJ'),\n",
       "  ('to', 'TO'),\n",
       "  ('us.', 'VB')],\n",
       " 'aspectCategories': {'aspectCategory': {'@category': 'service',\n",
       "   '@polarity': 'negative'}},\n",
       " 'aspectTerms': {'aspectTerm': {'@from': '8',\n",
       "   '@polarity': 'negative',\n",
       "   '@term': 'staff',\n",
       "   '@to': '13'}},\n",
       " 'text': 'But the staff was so horrible to us.'}"
      ]
     },
     "execution_count": 52,
     "metadata": {},
     "output_type": "execute_result"
    }
   ],
   "source": [
    "restaurantTrainDict['sentences']['sentence'][0]"
   ]
  },
  {
   "cell_type": "code",
   "execution_count": 58,
   "metadata": {
    "collapsed": false
   },
   "outputs": [
    {
     "name": "stdout",
     "output_type": "stream",
     "text": [
      "defaultdict(<function DependencyGraph.__init__.<locals>.<lambda> at 0x1129edc80>,\n",
      "            {0: {'address': 0,\n",
      "                 'ctag': 'TOP',\n",
      "                 'deps': defaultdict(<class 'list'>, {'root': [2]}),\n",
      "                 'feats': None,\n",
      "                 'head': None,\n",
      "                 'lemma': None,\n",
      "                 'rel': None,\n",
      "                 'tag': 'TOP',\n",
      "                 'word': None},\n",
      "             1: {'address': 1,\n",
      "                 'ctag': 'PRP',\n",
      "                 'deps': defaultdict(<class 'list'>, {}),\n",
      "                 'feats': '_',\n",
      "                 'head': 2,\n",
      "                 'lemma': '_',\n",
      "                 'rel': 'nsubj',\n",
      "                 'tag': 'PRP',\n",
      "                 'word': 'I'},\n",
      "             2: {'address': 2,\n",
      "                 'ctag': 'VBP',\n",
      "                 'deps': defaultdict(<class 'list'>,\n",
      "                                     {'cc': [6],\n",
      "                                      'conj': [7],\n",
      "                                      'dobj': [3],\n",
      "                                      'nmod': [5],\n",
      "                                      'nsubj': [1]}),\n",
      "                 'feats': '_',\n",
      "                 'head': 0,\n",
      "                 'lemma': '_',\n",
      "                 'rel': 'root',\n",
      "                 'tag': 'VBP',\n",
      "                 'word': 'charge'},\n",
      "             3: {'address': 3,\n",
      "                 'ctag': 'PRP',\n",
      "                 'deps': defaultdict(<class 'list'>, {}),\n",
      "                 'feats': '_',\n",
      "                 'head': 2,\n",
      "                 'lemma': '_',\n",
      "                 'rel': 'dobj',\n",
      "                 'tag': 'PRP',\n",
      "                 'word': 'it'},\n",
      "             4: {'address': 4,\n",
      "                 'ctag': 'IN',\n",
      "                 'deps': defaultdict(<class 'list'>, {}),\n",
      "                 'feats': '_',\n",
      "                 'head': 5,\n",
      "                 'lemma': '_',\n",
      "                 'rel': 'case',\n",
      "                 'tag': 'IN',\n",
      "                 'word': 'at'},\n",
      "             5: {'address': 5,\n",
      "                 'ctag': 'NN',\n",
      "                 'deps': defaultdict(<class 'list'>, {'case': [4]}),\n",
      "                 'feats': '_',\n",
      "                 'head': 2,\n",
      "                 'lemma': '_',\n",
      "                 'rel': 'nmod',\n",
      "                 'tag': 'NN',\n",
      "                 'word': 'night'},\n",
      "             6: {'address': 6,\n",
      "                 'ctag': 'CC',\n",
      "                 'deps': defaultdict(<class 'list'>, {}),\n",
      "                 'feats': '_',\n",
      "                 'head': 2,\n",
      "                 'lemma': '_',\n",
      "                 'rel': 'cc',\n",
      "                 'tag': 'CC',\n",
      "                 'word': 'and'},\n",
      "             7: {'address': 7,\n",
      "                 'ctag': 'VB',\n",
      "                 'deps': defaultdict(<class 'list'>, {'xcomp': [8]}),\n",
      "                 'feats': '_',\n",
      "                 'head': 2,\n",
      "                 'lemma': '_',\n",
      "                 'rel': 'conj',\n",
      "                 'tag': 'VB',\n",
      "                 'word': 'skip'},\n",
      "             8: {'address': 8,\n",
      "                 'ctag': 'VBG',\n",
      "                 'deps': defaultdict(<class 'list'>,\n",
      "                                     {'dobj': [10],\n",
      "                                      'nmod': [12]}),\n",
      "                 'feats': '_',\n",
      "                 'head': 7,\n",
      "                 'lemma': '_',\n",
      "                 'rel': 'xcomp',\n",
      "                 'tag': 'VBG',\n",
      "                 'word': 'taking'},\n",
      "             9: {'address': 9,\n",
      "                 'ctag': 'DT',\n",
      "                 'deps': defaultdict(<class 'list'>, {}),\n",
      "                 'feats': '_',\n",
      "                 'head': 10,\n",
      "                 'lemma': '_',\n",
      "                 'rel': 'det',\n",
      "                 'tag': 'DT',\n",
      "                 'word': 'the'},\n",
      "             10: {'address': 10,\n",
      "                  'ctag': 'NN',\n",
      "                  'deps': defaultdict(<class 'list'>, {'det': [9]}),\n",
      "                  'feats': '_',\n",
      "                  'head': 8,\n",
      "                  'lemma': '_',\n",
      "                  'rel': 'dobj',\n",
      "                  'tag': 'NN',\n",
      "                  'word': 'cord'},\n",
      "             11: {'address': 11,\n",
      "                  'ctag': 'IN',\n",
      "                  'deps': defaultdict(<class 'list'>, {}),\n",
      "                  'feats': '_',\n",
      "                  'head': 12,\n",
      "                  'lemma': '_',\n",
      "                  'rel': 'case',\n",
      "                  'tag': 'IN',\n",
      "                  'word': 'with'},\n",
      "             12: {'address': 12,\n",
      "                  'ctag': 'PRP',\n",
      "                  'deps': defaultdict(<class 'list'>,\n",
      "                                      {'case': [11],\n",
      "                                       'nmod': [18]}),\n",
      "                  'feats': '_',\n",
      "                  'head': 8,\n",
      "                  'lemma': '_',\n",
      "                  'rel': 'nmod',\n",
      "                  'tag': 'PRP',\n",
      "                  'word': 'me'},\n",
      "             13: {'address': 13,\n",
      "                  'ctag': 'RB',\n",
      "                  'deps': defaultdict(<class 'list'>, {'mwe': [14]}),\n",
      "                  'feats': '_',\n",
      "                  'head': 18,\n",
      "                  'lemma': '_',\n",
      "                  'rel': 'case',\n",
      "                  'tag': 'RB',\n",
      "                  'word': 'because'},\n",
      "             14: {'address': 14,\n",
      "                  'ctag': 'IN',\n",
      "                  'deps': defaultdict(<class 'list'>, {}),\n",
      "                  'feats': '_',\n",
      "                  'head': 13,\n",
      "                  'lemma': '_',\n",
      "                  'rel': 'mwe',\n",
      "                  'tag': 'IN',\n",
      "                  'word': 'of'},\n",
      "             15: {'address': 15,\n",
      "                  'ctag': 'DT',\n",
      "                  'deps': defaultdict(<class 'list'>, {}),\n",
      "                  'feats': '_',\n",
      "                  'head': 18,\n",
      "                  'lemma': '_',\n",
      "                  'rel': 'det',\n",
      "                  'tag': 'DT',\n",
      "                  'word': 'the'},\n",
      "             16: {'address': 16,\n",
      "                  'ctag': 'JJ',\n",
      "                  'deps': defaultdict(<class 'list'>, {}),\n",
      "                  'feats': '_',\n",
      "                  'head': 18,\n",
      "                  'lemma': '_',\n",
      "                  'rel': 'amod',\n",
      "                  'tag': 'JJ',\n",
      "                  'word': 'good'},\n",
      "             17: {'address': 17,\n",
      "                  'ctag': 'NN',\n",
      "                  'deps': defaultdict(<class 'list'>, {}),\n",
      "                  'feats': '_',\n",
      "                  'head': 18,\n",
      "                  'lemma': '_',\n",
      "                  'rel': 'compound',\n",
      "                  'tag': 'NN',\n",
      "                  'word': 'battery'},\n",
      "             18: {'address': 18,\n",
      "                  'ctag': 'NN',\n",
      "                  'deps': defaultdict(<class 'list'>,\n",
      "                                      {'amod': [16],\n",
      "                                       'case': [13],\n",
      "                                       'compound': [17],\n",
      "                                       'det': [15]}),\n",
      "                  'feats': '_',\n",
      "                  'head': 12,\n",
      "                  'lemma': '_',\n",
      "                  'rel': 'nmod',\n",
      "                  'tag': 'NN',\n",
      "                  'word': 'life'}})\n"
     ]
    }
   ],
   "source": [
    "gg = dep_parser.raw_parse('I charge it at night and skip taking the cord with me because of the good battery life')\n",
    "for i in gg:\n",
    "    print(i)"
   ]
  },
  {
   "cell_type": "code",
   "execution_count": 71,
   "metadata": {
    "collapsed": false,
    "scrolled": true
   },
   "outputs": [
    {
     "name": "stdout",
     "output_type": "stream",
     "text": [
      "defaultdict(<function DependencyGraph.__init__.<locals>.<lambda> at 0x1126dcc80>,\n",
      "            {0: {'address': 0,\n",
      "                 'ctag': 'TOP',\n",
      "                 'deps': defaultdict(<class 'list'>, {'root': [3]}),\n",
      "                 'feats': None,\n",
      "                 'head': None,\n",
      "                 'lemma': None,\n",
      "                 'rel': None,\n",
      "                 'tag': 'TOP',\n",
      "                 'word': None},\n",
      "             1: {'address': 1,\n",
      "                 'ctag': 'PRP',\n",
      "                 'deps': defaultdict(<class 'list'>, {}),\n",
      "                 'feats': '_',\n",
      "                 'head': 3,\n",
      "                 'lemma': '_',\n",
      "                 'rel': 'nsubj',\n",
      "                 'tag': 'PRP',\n",
      "                 'word': 'I'},\n",
      "             2: {'address': 2,\n",
      "                 'ctag': 'RB',\n",
      "                 'deps': defaultdict(<class 'list'>, {}),\n",
      "                 'feats': '_',\n",
      "                 'head': 3,\n",
      "                 'lemma': '_',\n",
      "                 'rel': 'advmod',\n",
      "                 'tag': 'RB',\n",
      "                 'word': 'previously'},\n",
      "             3: {'address': 3,\n",
      "                 'ctag': 'VBD',\n",
      "                 'deps': defaultdict(<class 'list'>,\n",
      "                                     {'advmod': [2],\n",
      "                                      'cc': [29],\n",
      "                                      'conj': [31],\n",
      "                                      'dep': [27],\n",
      "                                      'dobj': [7],\n",
      "                                      'nsubj': [1]}),\n",
      "                 'feats': '_',\n",
      "                 'head': 0,\n",
      "                 'lemma': '_',\n",
      "                 'rel': 'root',\n",
      "                 'tag': 'VBD',\n",
      "                 'word': 'purchased'},\n",
      "             4: {'address': 4,\n",
      "                 'ctag': 'DT',\n",
      "                 'deps': defaultdict(<class 'list'>, {}),\n",
      "                 'feats': '_',\n",
      "                 'head': 7,\n",
      "                 'lemma': '_',\n",
      "                 'rel': 'det',\n",
      "                 'tag': 'DT',\n",
      "                 'word': 'a'},\n",
      "             5: {'address': 5,\n",
      "                 'ctag': 'CD',\n",
      "                 'deps': defaultdict(<class 'list'>, {}),\n",
      "                 'feats': '_',\n",
      "                 'head': 7,\n",
      "                 'lemma': '_',\n",
      "                 'rel': 'nummod',\n",
      "                 'tag': 'CD',\n",
      "                 'word': '13'},\n",
      "             7: {'address': 7,\n",
      "                 'ctag': 'NNS',\n",
      "                 'deps': defaultdict(<class 'list'>,\n",
      "                                     {'acl:relcl': [18],\n",
      "                                      'dep': [9],\n",
      "                                      'det': [4],\n",
      "                                      'nummod': [5]}),\n",
      "                 'feats': '_',\n",
      "                 'head': 3,\n",
      "                 'lemma': '_',\n",
      "                 'rel': 'dobj',\n",
      "                 'tag': 'NNS',\n",
      "                 'word': 'macbook'},\n",
      "             9: {'address': 9,\n",
      "                 'ctag': 'VBD',\n",
      "                 'deps': defaultdict(<class 'list'>,\n",
      "                                     {'cc': [12],\n",
      "                                      'conj': [13],\n",
      "                                      'dobj': [11, 15]}),\n",
      "                 'feats': '_',\n",
      "                 'head': 7,\n",
      "                 'lemma': '_',\n",
      "                 'rel': 'dep',\n",
      "                 'tag': 'VBD',\n",
      "                 'word': 'had'},\n",
      "             10: {'address': 10,\n",
      "                  'ctag': 'JJ',\n",
      "                  'deps': defaultdict(<class 'list'>, {}),\n",
      "                  'feats': '_',\n",
      "                  'head': 11,\n",
      "                  'lemma': '_',\n",
      "                  'rel': 'amod',\n",
      "                  'tag': 'JJ',\n",
      "                  'word': 'pro'},\n",
      "             11: {'address': 11,\n",
      "                  'ctag': 'NNS',\n",
      "                  'deps': defaultdict(<class 'list'>, {'amod': [10]}),\n",
      "                  'feats': '_',\n",
      "                  'head': 9,\n",
      "                  'lemma': '_',\n",
      "                  'rel': 'dobj',\n",
      "                  'tag': 'NNS',\n",
      "                  'word': 'specs'},\n",
      "             12: {'address': 12,\n",
      "                  'ctag': 'CC',\n",
      "                  'deps': defaultdict(<class 'list'>, {}),\n",
      "                  'feats': '_',\n",
      "                  'head': 9,\n",
      "                  'lemma': '_',\n",
      "                  'rel': 'cc',\n",
      "                  'tag': 'CC',\n",
      "                  'word': 'and'},\n",
      "             13: {'address': 13,\n",
      "                  'ctag': 'VBD',\n",
      "                  'deps': defaultdict(<class 'list'>, {}),\n",
      "                  'feats': '_',\n",
      "                  'head': 9,\n",
      "                  'lemma': '_',\n",
      "                  'rel': 'conj',\n",
      "                  'tag': 'VBD',\n",
      "                  'word': 'was'},\n",
      "             14: {'address': 14,\n",
      "                  'ctag': 'NN',\n",
      "                  'deps': defaultdict(<class 'list'>, {}),\n",
      "                  'feats': '_',\n",
      "                  'head': 15,\n",
      "                  'lemma': '_',\n",
      "                  'rel': 'compound',\n",
      "                  'tag': 'NN',\n",
      "                  'word': 'aluminum'},\n",
      "             15: {'address': 15,\n",
      "                  'ctag': 'NN',\n",
      "                  'deps': defaultdict(<class 'list'>, {'compound': [14]}),\n",
      "                  'feats': '_',\n",
      "                  'head': 9,\n",
      "                  'lemma': '_',\n",
      "                  'rel': 'dobj',\n",
      "                  'tag': 'NN',\n",
      "                  'word': 'style'},\n",
      "             17: {'address': 17,\n",
      "                  'ctag': 'WDT',\n",
      "                  'deps': defaultdict(<class 'list'>, {}),\n",
      "                  'feats': '_',\n",
      "                  'head': 18,\n",
      "                  'lemma': '_',\n",
      "                  'rel': 'nsubj',\n",
      "                  'tag': 'WDT',\n",
      "                  'word': 'which'},\n",
      "             18: {'address': 18,\n",
      "                  'ctag': 'VBD',\n",
      "                  'deps': defaultdict(<class 'list'>,\n",
      "                                      {'dobj': [20],\n",
      "                                       'nsubj': [17]}),\n",
      "                  'feats': '_',\n",
      "                  'head': 7,\n",
      "                  'lemma': '_',\n",
      "                  'rel': 'acl:relcl',\n",
      "                  'tag': 'VBD',\n",
      "                  'word': 'had'},\n",
      "             19: {'address': 19,\n",
      "                  'ctag': 'DT',\n",
      "                  'deps': defaultdict(<class 'list'>, {}),\n",
      "                  'feats': '_',\n",
      "                  'head': 20,\n",
      "                  'lemma': '_',\n",
      "                  'rel': 'det',\n",
      "                  'tag': 'DT',\n",
      "                  'word': 'a'},\n",
      "             20: {'address': 20,\n",
      "                  'ctag': 'NN',\n",
      "                  'deps': defaultdict(<class 'list'>,\n",
      "                                      {'det': [19],\n",
      "                                       'nummod': [21]}),\n",
      "                  'feats': '_',\n",
      "                  'head': 18,\n",
      "                  'lemma': '_',\n",
      "                  'rel': 'dobj',\n",
      "                  'tag': 'NN',\n",
      "                  'word': 'nvidia'},\n",
      "             21: {'address': 21,\n",
      "                  'ctag': 'CD',\n",
      "                  'deps': defaultdict(<class 'list'>, {}),\n",
      "                  'feats': '_',\n",
      "                  'head': 20,\n",
      "                  'lemma': '_',\n",
      "                  'rel': 'nummod',\n",
      "                  'tag': 'CD',\n",
      "                  'word': '9800'},\n",
      "             23: {'address': 23,\n",
      "                  'ctag': 'IN',\n",
      "                  'deps': defaultdict(<class 'list'>, {}),\n",
      "                  'feats': '_',\n",
      "                  'head': 27,\n",
      "                  'lemma': '_',\n",
      "                  'rel': 'mark',\n",
      "                  'tag': 'IN',\n",
      "                  'word': 'If'},\n",
      "             24: {'address': 24,\n",
      "                  'ctag': 'PRP',\n",
      "                  'deps': defaultdict(<class 'list'>, {}),\n",
      "                  'feats': '_',\n",
      "                  'head': 27,\n",
      "                  'lemma': '_',\n",
      "                  'rel': 'nsubjpass',\n",
      "                  'tag': 'PRP',\n",
      "                  'word': 'I'},\n",
      "             25: {'address': 25,\n",
      "                  'ctag': 'VBP',\n",
      "                  'deps': defaultdict(<class 'list'>, {}),\n",
      "                  'feats': '_',\n",
      "                  'head': 27,\n",
      "                  'lemma': '_',\n",
      "                  'rel': 'auxpass',\n",
      "                  'tag': 'VBP',\n",
      "                  'word': 'am'},\n",
      "             26: {'address': 26,\n",
      "                  'ctag': 'RB',\n",
      "                  'deps': defaultdict(<class 'list'>, {}),\n",
      "                  'feats': '_',\n",
      "                  'head': 27,\n",
      "                  'lemma': '_',\n",
      "                  'rel': 'neg',\n",
      "                  'tag': 'RB',\n",
      "                  'word': 'not'},\n",
      "             27: {'address': 27,\n",
      "                  'ctag': 'VBN',\n",
      "                  'deps': defaultdict(<class 'list'>,\n",
      "                                      {'auxpass': [25],\n",
      "                                       'mark': [23],\n",
      "                                       'neg': [26],\n",
      "                                       'nsubjpass': [24]}),\n",
      "                  'feats': '_',\n",
      "                  'head': 3,\n",
      "                  'lemma': '_',\n",
      "                  'rel': 'dep',\n",
      "                  'tag': 'VBN',\n",
      "                  'word': 'mistaken'},\n",
      "             29: {'address': 29,\n",
      "                  'ctag': 'CC',\n",
      "                  'deps': defaultdict(<class 'list'>, {}),\n",
      "                  'feats': '_',\n",
      "                  'head': 3,\n",
      "                  'lemma': '_',\n",
      "                  'rel': 'cc',\n",
      "                  'tag': 'CC',\n",
      "                  'word': 'and'},\n",
      "             30: {'address': 30,\n",
      "                  'ctag': 'PRP',\n",
      "                  'deps': defaultdict(<class 'list'>, {}),\n",
      "                  'feats': '_',\n",
      "                  'head': 31,\n",
      "                  'lemma': '_',\n",
      "                  'rel': 'nsubj',\n",
      "                  'tag': 'PRP',\n",
      "                  'word': 'it'},\n",
      "             31: {'address': 31,\n",
      "                  'ctag': 'VBD',\n",
      "                  'deps': defaultdict(<class 'list'>,\n",
      "                                      {'dobj': [34],\n",
      "                                       'nsubj': [30]}),\n",
      "                  'feats': '_',\n",
      "                  'head': 3,\n",
      "                  'lemma': '_',\n",
      "                  'rel': 'conj',\n",
      "                  'tag': 'VBD',\n",
      "                  'word': 'had'},\n",
      "             32: {'address': 32,\n",
      "                  'ctag': 'JJ',\n",
      "                  'deps': defaultdict(<class 'list'>, {}),\n",
      "                  'feats': '_',\n",
      "                  'head': 34,\n",
      "                  'lemma': '_',\n",
      "                  'rel': 'amod',\n",
      "                  'tag': 'JJ',\n",
      "                  'word': 'major'},\n",
      "             33: {'address': 33,\n",
      "                  'ctag': 'NN',\n",
      "                  'deps': defaultdict(<class 'list'>, {}),\n",
      "                  'feats': '_',\n",
      "                  'head': 34,\n",
      "                  'lemma': '_',\n",
      "                  'rel': 'compound',\n",
      "                  'tag': 'NN',\n",
      "                  'word': 'heating'},\n",
      "             34: {'address': 34,\n",
      "                  'ctag': 'NNS',\n",
      "                  'deps': defaultdict(<class 'list'>,\n",
      "                                      {'amod': [32],\n",
      "                                       'compound': [33]}),\n",
      "                  'feats': '_',\n",
      "                  'head': 31,\n",
      "                  'lemma': '_',\n",
      "                  'rel': 'dobj',\n",
      "                  'tag': 'NNS',\n",
      "                  'word': 'issues'}})\n"
     ]
    }
   ],
   "source": [
    "gg = dep_parser.raw_parse('I previously purchased a 13\" macbook (had pro specs and was aluminum style) which had a nvidia 9800 (If I am not mistaken) and it had major heating issues.')\n",
    "for i in gg:\n",
    "    print(i)"
   ]
  },
  {
   "cell_type": "code",
   "execution_count": 63,
   "metadata": {
    "collapsed": false
   },
   "outputs": [
    {
     "data": {
      "text/plain": [
       "[(\"It's\", 'NNS'),\n",
       " ('like', 'IN'),\n",
       " ('9', 'CD'),\n",
       " ('punds,', 'NN'),\n",
       " ('but', 'CC'),\n",
       " ('if', 'IN'),\n",
       " ('you', 'PRP'),\n",
       " ('can', 'MD'),\n",
       " ('look', 'VB'),\n",
       " ('past', 'IN'),\n",
       " ('it,', 'NNP'),\n",
       " (\"it's\", 'NNP'),\n",
       " ('GREAT!', 'NNP')]"
      ]
     },
     "execution_count": 63,
     "metadata": {},
     "output_type": "execute_result"
    }
   ],
   "source": [
    "st.tag(['It\\'s like 9 punds, but if you can look past it, it\\'s GREAT!'])"
   ]
  },
  {
   "cell_type": "code",
   "execution_count": 67,
   "metadata": {
    "collapsed": false
   },
   "outputs": [],
   "source": [
    "lptp_sents  = ''\n",
    "for s in laptopTrainDict['sentences']['sentence']:\n",
    "    lptp_sents = lptp_sents + ' ' + s['text']\n"
   ]
  },
  {
   "cell_type": "code",
   "execution_count": 70,
   "metadata": {
    "collapsed": false
   },
   "outputs": [
    {
     "name": "stdout",
     "output_type": "stream",
     "text": [
      "battery life; MacBook Pro; hard drive; Best Buy; power supply;\n",
      "operating system; Macbook Pro; tech support; macbook pro; would\n",
      "recommend; extended warranty; service center; Customer Service; Geek\n",
      "Squad; Wal Mart; touch pad; MacHouse Amsterdam; highly recommend;\n",
      "stopped working; n't even\n"
     ]
    }
   ],
   "source": [
    "import nltk\n",
    "from nltk import word_tokenize \n",
    "tokens = word_tokenize(lptp_sents)\n",
    "text = nltk.Text(tokens)\n",
    "text.collocations()"
   ]
  },
  {
   "cell_type": "code",
   "execution_count": 72,
   "metadata": {
    "collapsed": true
   },
   "outputs": [],
   "source": [
    "dep_g = dep_parser.raw_parse('I previously purchased a 13\" macbook (had pro specs and was aluminum style) which had a nvidia 9800 (If I am not mistaken) and it had major heating issues.')"
   ]
  },
  {
   "cell_type": "code",
   "execution_count": 73,
   "metadata": {
    "collapsed": false
   },
   "outputs": [
    {
     "data": {
      "text/plain": [
       "list_iterator"
      ]
     },
     "execution_count": 73,
     "metadata": {},
     "output_type": "execute_result"
    }
   ],
   "source": [
    "type(dep_g)"
   ]
  },
  {
   "cell_type": "code",
   "execution_count": 74,
   "metadata": {
    "collapsed": true
   },
   "outputs": [],
   "source": [
    "dep_g = list(dep_g)"
   ]
  },
  {
   "cell_type": "code",
   "execution_count": 90,
   "metadata": {
    "collapsed": false
   },
   "outputs": [
    {
     "data": {
      "text/plain": [
       "{'address': 1,\n",
       " 'ctag': 'PRP',\n",
       " 'deps': defaultdict(list, {}),\n",
       " 'feats': '_',\n",
       " 'head': 3,\n",
       " 'lemma': '_',\n",
       " 'rel': 'nsubj',\n",
       " 'tag': 'PRP',\n",
       " 'word': 'I'}"
      ]
     },
     "execution_count": 90,
     "metadata": {},
     "output_type": "execute_result"
    }
   ],
   "source": [
    "dep_g[0].nodes[1]"
   ]
  },
  {
   "cell_type": "code",
   "execution_count": 88,
   "metadata": {
    "collapsed": false
   },
   "outputs": [
    {
     "data": {
      "text/plain": [
       "{'address': 0,\n",
       " 'ctag': 'TOP',\n",
       " 'deps': defaultdict(list, {'root': [3]}),\n",
       " 'feats': None,\n",
       " 'head': None,\n",
       " 'lemma': None,\n",
       " 'rel': None,\n",
       " 'tag': 'TOP',\n",
       " 'word': None}"
      ]
     },
     "execution_count": 88,
     "metadata": {},
     "output_type": "execute_result"
    }
   ],
   "source": [
    "dep_g[0].nodes[0]"
   ]
  },
  {
   "cell_type": "code",
   "execution_count": 96,
   "metadata": {
    "collapsed": false
   },
   "outputs": [
    {
     "data": {
      "text/plain": [
       "defaultdict(list, {0: [], 'root': [3]})"
      ]
     },
     "execution_count": 96,
     "metadata": {},
     "output_type": "execute_result"
    }
   ],
   "source": [
    "dep_g[0].nodes[0]['deps']"
   ]
  },
  {
   "cell_type": "code",
   "execution_count": 100,
   "metadata": {
    "collapsed": false
   },
   "outputs": [
    {
     "name": "stdout",
     "output_type": "stream",
     "text": [
      "dep\n",
      "cc\n",
      "advmod\n",
      "nsubj\n",
      "conj\n",
      "dobj\n"
     ]
    }
   ],
   "source": [
    "for i in dep_g[0].nodes[3]['deps']:\n",
    "    print(i)"
   ]
  },
  {
   "cell_type": "code",
   "execution_count": 102,
   "metadata": {
    "collapsed": false
   },
   "outputs": [],
   "source": [
    "dep_g = dep_parser.raw_parse('I previously purchased a 13\" macbook (had pro specs and was aluminum style) which had a nvidia 9800 (If I am not mistaken) and it had major heating issues.')\n",
    "dep_g = list(dep_g)\n"
   ]
  },
  {
   "cell_type": "code",
   "execution_count": 109,
   "metadata": {
    "collapsed": false
   },
   "outputs": [
    {
     "name": "stdout",
     "output_type": "stream",
     "text": [
      "{'tag': 'NN', 'word': 'style', 'deps': defaultdict(<class 'list'>, {'compound': [14]}), 'feats': '_', 'lemma': '_', 'head': 9, 'ctag': 'NN', 'address': 15, 'rel': 'dobj'}\n",
      "{'tag': 'NNS', 'word': 'issues', 'deps': defaultdict(<class 'list'>, {'amod': [32], 'compound': [33]}), 'feats': '_', 'lemma': '_', 'head': 31, 'ctag': 'NNS', 'address': 34, 'rel': 'dobj'}\n"
     ]
    }
   ],
   "source": [
    "\n",
    "for node in dep_g[0].nodes:\n",
    "    node = dep_g[0].nodes[node]\n",
    "    for dep in node['deps']:\n",
    "        if dep == 'compound':\n",
    "            print(node)\n",
    "            break"
   ]
  },
  {
   "cell_type": "code",
   "execution_count": 110,
   "metadata": {
    "collapsed": false
   },
   "outputs": [
    {
     "data": {
      "text/plain": [
       "{'address': 33,\n",
       " 'ctag': 'NN',\n",
       " 'deps': defaultdict(list, {}),\n",
       " 'feats': '_',\n",
       " 'head': 34,\n",
       " 'lemma': '_',\n",
       " 'rel': 'compound',\n",
       " 'tag': 'NN',\n",
       " 'word': 'heating'}"
      ]
     },
     "execution_count": 110,
     "metadata": {},
     "output_type": "execute_result"
    }
   ],
   "source": [
    "dep_g[0].nodes[33]"
   ]
  },
  {
   "cell_type": "code",
   "execution_count": 117,
   "metadata": {
    "collapsed": false
   },
   "outputs": [],
   "source": [
    "dep_g = dep_parser.raw_parse('I previously purchased a 13\" macbook (had pro specs and was aluminum style) which had a\\\n",
    "                             nvidia 9800 (If I am not mistaken) and it had major heating issues. The battery doesn\\'t last long but I\\'m sure an upgrade battery would solve that problem.')\n"
   ]
  },
  {
   "cell_type": "code",
   "execution_count": 118,
   "metadata": {
    "collapsed": true
   },
   "outputs": [],
   "source": [
    "dep_g = list(dep_g)"
   ]
  },
  {
   "cell_type": "code",
   "execution_count": 120,
   "metadata": {
    "collapsed": false
   },
   "outputs": [
    {
     "data": {
      "text/plain": [
       "1"
      ]
     },
     "execution_count": 120,
     "metadata": {},
     "output_type": "execute_result"
    }
   ],
   "source": [
    "len(dep_g)"
   ]
  },
  {
   "cell_type": "code",
   "execution_count": 170,
   "metadata": {
    "collapsed": true
   },
   "outputs": [],
   "source": [
    "depg = dep_parser.raw_parse_sents(['I previously purchased a 13\" macbook (had pro specs and was aluminum style) which had a\\\n",
    "                             nvidia 9800 (If I am not mistaken) and it had major heating issues.', 'The battery doesn\\'t last long but I\\'m sure an upgrade battery would solve that problem.'])"
   ]
  },
  {
   "cell_type": "code",
   "execution_count": 171,
   "metadata": {
    "collapsed": false,
    "scrolled": true
   },
   "outputs": [
    {
     "name": "stdout",
     "output_type": "stream",
     "text": [
      "---------------\n",
      "{'tag': 'NN', 'word': 'style', 'deps': defaultdict(<class 'list'>, {'compound': [14]}), 'feats': '_', 'lemma': '_', 'head': 9, 'ctag': 'NN', 'address': 15, 'rel': 'dobj'}\n",
      "---------------\n",
      "{'tag': 'NNS', 'word': 'issues', 'deps': defaultdict(<class 'list'>, {'amod': [32], 'compound': [33]}), 'feats': '_', 'lemma': '_', 'head': 31, 'ctag': 'NNS', 'address': 34, 'rel': 'dobj'}\n"
     ]
    }
   ],
   "source": [
    "for g in depg:\n",
    "    g = list(g)\n",
    "    for node in g[0].nodes:\n",
    "        node = g[0].nodes[node]\n",
    "        for dep in node['deps']:\n",
    "            if dep == 'compound':\n",
    "                print('-'*15)\n",
    "                print(node)"
   ]
  },
  {
   "cell_type": "code",
   "execution_count": 161,
   "metadata": {
    "collapsed": false
   },
   "outputs": [
    {
     "data": {
      "text/plain": [
       "[<DependencyGraph with 30 nodes>]"
      ]
     },
     "execution_count": 161,
     "metadata": {},
     "output_type": "execute_result"
    }
   ],
   "source": []
  },
  {
   "cell_type": "code",
   "execution_count": 151,
   "metadata": {
    "collapsed": false
   },
   "outputs": [
    {
     "ename": "IndexError",
     "evalue": "list index out of range",
     "output_type": "error",
     "traceback": [
      "\u001b[0;31m---------------------------------------------------------------------------\u001b[0m",
      "\u001b[0;31mIndexError\u001b[0m                                Traceback (most recent call last)",
      "\u001b[0;32m<ipython-input-151-d237398c1eca>\u001b[0m in \u001b[0;36m<module>\u001b[0;34m()\u001b[0m\n\u001b[1;32m      1\u001b[0m \u001b[0;32mfor\u001b[0m \u001b[0mi\u001b[0m \u001b[0;32min\u001b[0m \u001b[0mdepg\u001b[0m\u001b[0;34m:\u001b[0m\u001b[0;34m\u001b[0m\u001b[0m\n\u001b[1;32m      2\u001b[0m     \u001b[0mi\u001b[0m \u001b[0;34m=\u001b[0m \u001b[0mlist\u001b[0m\u001b[0;34m(\u001b[0m\u001b[0mi\u001b[0m\u001b[0;34m)\u001b[0m\u001b[0;34m\u001b[0m\u001b[0m\n\u001b[0;32m----> 3\u001b[0;31m     \u001b[0;32mfor\u001b[0m \u001b[0mnode\u001b[0m \u001b[0;32min\u001b[0m \u001b[0mi\u001b[0m\u001b[0;34m[\u001b[0m\u001b[0;36m0\u001b[0m\u001b[0;34m]\u001b[0m\u001b[0;34m.\u001b[0m\u001b[0mnodes\u001b[0m\u001b[0;34m:\u001b[0m\u001b[0;34m\u001b[0m\u001b[0m\n\u001b[0m\u001b[1;32m      4\u001b[0m         \u001b[0mnode\u001b[0m \u001b[0;34m=\u001b[0m \u001b[0mi\u001b[0m\u001b[0;34m.\u001b[0m\u001b[0mnodes\u001b[0m\u001b[0;34m[\u001b[0m\u001b[0mnode\u001b[0m\u001b[0;34m]\u001b[0m\u001b[0;34m\u001b[0m\u001b[0m\n\u001b[1;32m      5\u001b[0m         \u001b[0;32mfor\u001b[0m \u001b[0mdep\u001b[0m \u001b[0;32min\u001b[0m \u001b[0mnode\u001b[0m\u001b[0;34m[\u001b[0m\u001b[0;34m'deps'\u001b[0m\u001b[0;34m]\u001b[0m\u001b[0;34m:\u001b[0m\u001b[0;34m\u001b[0m\u001b[0m\n",
      "\u001b[0;31mIndexError\u001b[0m: list index out of range"
     ]
    }
   ],
   "source": [
    "for i in depg:\n",
    "    i = list(i)\n",
    "    for node in i[0].nodes:\n",
    "        node = i.nodes[node]\n",
    "        for dep in node['deps']:\n",
    "            if dep == 'compound':\n",
    "                print(node)\n",
    "                break"
   ]
  },
  {
   "cell_type": "code",
   "execution_count": 144,
   "metadata": {
    "collapsed": false
   },
   "outputs": [],
   "source": [
    "from nltk.tokenize.stanford_segmenter import StanfordSegmenter"
   ]
  },
  {
   "cell_type": "code",
   "execution_count": 145,
   "metadata": {
    "collapsed": false
   },
   "outputs": [
    {
     "ename": "LookupError",
     "evalue": "\n\n===========================================================================\n  NLTK was unable to find stanford-segmenter.jar! Set the CLASSPATH\n  environment variable.\n\n  For more information, on stanford-segmenter.jar, see:\n    <http://nlp.stanford.edu/software>\n===========================================================================",
     "output_type": "error",
     "traceback": [
      "\u001b[0;31m---------------------------------------------------------------------------\u001b[0m",
      "\u001b[0;31mLookupError\u001b[0m                               Traceback (most recent call last)",
      "\u001b[0;32m<ipython-input-145-20dbf37e9db8>\u001b[0m in \u001b[0;36m<module>\u001b[0;34m()\u001b[0m\n\u001b[0;32m----> 1\u001b[0;31m \u001b[0msegmenter\u001b[0m \u001b[0;34m=\u001b[0m \u001b[0mStanfordSegmenter\u001b[0m\u001b[0;34m(\u001b[0m\u001b[0;34m)\u001b[0m\u001b[0;34m\u001b[0m\u001b[0m\n\u001b[0m\u001b[1;32m      2\u001b[0m \u001b[0;34m\u001b[0m\u001b[0m\n",
      "\u001b[0;32m/Users/zarzen/.pyenv/versions/anaconda3-4.1.1/lib/python3.5/site-packages/nltk/tokenize/stanford_segmenter.py\u001b[0m in \u001b[0;36m__init__\u001b[0;34m(self, path_to_jar, path_to_slf4j, path_to_sihan_corpora_dict, path_to_model, path_to_dict, encoding, options, verbose, java_options)\u001b[0m\n\u001b[1;32m     53\u001b[0m                 \u001b[0menv_vars\u001b[0m\u001b[0;34m=\u001b[0m\u001b[0;34m(\u001b[0m\u001b[0;34m'STANFORD_SEGMENTER'\u001b[0m\u001b[0;34m,\u001b[0m\u001b[0;34m)\u001b[0m\u001b[0;34m,\u001b[0m\u001b[0;34m\u001b[0m\u001b[0m\n\u001b[1;32m     54\u001b[0m                 \u001b[0msearchpath\u001b[0m\u001b[0;34m=\u001b[0m\u001b[0;34m(\u001b[0m\u001b[0;34m)\u001b[0m\u001b[0;34m,\u001b[0m \u001b[0murl\u001b[0m\u001b[0;34m=\u001b[0m\u001b[0m_stanford_url\u001b[0m\u001b[0;34m,\u001b[0m\u001b[0;34m\u001b[0m\u001b[0m\n\u001b[0;32m---> 55\u001b[0;31m                 verbose=verbose)\n\u001b[0m\u001b[1;32m     56\u001b[0m         slf4j = find_jar(\n\u001b[1;32m     57\u001b[0m                 \u001b[0mself\u001b[0m\u001b[0;34m.\u001b[0m\u001b[0m_SLF4J\u001b[0m\u001b[0;34m,\u001b[0m \u001b[0mpath_to_slf4j\u001b[0m\u001b[0;34m,\u001b[0m\u001b[0;34m\u001b[0m\u001b[0m\n",
      "\u001b[0;32m/Users/zarzen/.pyenv/versions/anaconda3-4.1.1/lib/python3.5/site-packages/nltk/__init__.py\u001b[0m in \u001b[0;36mfind_jar\u001b[0;34m(name_pattern, path_to_jar, env_vars, searchpath, url, verbose, is_regex)\u001b[0m\n\u001b[1;32m    717\u001b[0m         searchpath=(), url=None, verbose=True, is_regex=False):\n\u001b[1;32m    718\u001b[0m     return next(find_jar_iter(name_pattern, path_to_jar, env_vars,\n\u001b[0;32m--> 719\u001b[0;31m                          searchpath, url, verbose, is_regex))\n\u001b[0m\u001b[1;32m    720\u001b[0m \u001b[0;34m\u001b[0m\u001b[0m\n\u001b[1;32m    721\u001b[0m \u001b[0;34m\u001b[0m\u001b[0m\n",
      "\u001b[0;32m/Users/zarzen/.pyenv/versions/anaconda3-4.1.1/lib/python3.5/site-packages/nltk/__init__.py\u001b[0m in \u001b[0;36mfind_jar_iter\u001b[0;34m(name_pattern, path_to_jar, env_vars, searchpath, url, verbose, is_regex)\u001b[0m\n\u001b[1;32m    712\u001b[0m                     (name_pattern, url))\n\u001b[1;32m    713\u001b[0m         \u001b[0mdiv\u001b[0m \u001b[0;34m=\u001b[0m \u001b[0;34m'='\u001b[0m\u001b[0;34m*\u001b[0m\u001b[0;36m75\u001b[0m\u001b[0;34m\u001b[0m\u001b[0m\n\u001b[0;32m--> 714\u001b[0;31m         \u001b[0;32mraise\u001b[0m \u001b[0mLookupError\u001b[0m\u001b[0;34m(\u001b[0m\u001b[0;34m'\\n\\n%s\\n%s\\n%s'\u001b[0m \u001b[0;34m%\u001b[0m \u001b[0;34m(\u001b[0m\u001b[0mdiv\u001b[0m\u001b[0;34m,\u001b[0m \u001b[0mmsg\u001b[0m\u001b[0;34m,\u001b[0m \u001b[0mdiv\u001b[0m\u001b[0;34m)\u001b[0m\u001b[0;34m)\u001b[0m\u001b[0;34m\u001b[0m\u001b[0m\n\u001b[0m\u001b[1;32m    715\u001b[0m \u001b[0;34m\u001b[0m\u001b[0m\n\u001b[1;32m    716\u001b[0m def find_jar(name_pattern, path_to_jar=None, env_vars=(),\n",
      "\u001b[0;31mLookupError\u001b[0m: \n\n===========================================================================\n  NLTK was unable to find stanford-segmenter.jar! Set the CLASSPATH\n  environment variable.\n\n  For more information, on stanford-segmenter.jar, see:\n    <http://nlp.stanford.edu/software>\n==========================================================================="
     ]
    }
   ],
   "source": [
    "segmenter = StanfordSegmenter()\n",
    "    "
   ]
  },
  {
   "cell_type": "code",
   "execution_count": 146,
   "metadata": {
    "collapsed": true
   },
   "outputs": [],
   "source": [
    "import nltk.data\n",
    "text = '''\n",
    "I previously purchased a 13\" macbook (had pro specs and was aluminum style) which had a\n",
    "nvidia 9800 (If I am not mistaken) and it had major heating issues. The battery doesn't \n",
    "last long but I'm sure an upgrade battery would solve that problem.\n",
    "'''\n",
    "sent_detector = nltk.data.load('tokenizers/punkt/english.pickle')\n",
    "ss = sent_detector.tokenize(text.strip())"
   ]
  },
  {
   "cell_type": "code",
   "execution_count": 148,
   "metadata": {
    "collapsed": false
   },
   "outputs": [
    {
     "data": {
      "text/plain": [
       "2"
      ]
     },
     "execution_count": 148,
     "metadata": {},
     "output_type": "execute_result"
    }
   ],
   "source": [
    "len(ss)"
   ]
  },
  {
   "cell_type": "code",
   "execution_count": 172,
   "metadata": {
    "collapsed": true
   },
   "outputs": [],
   "source": [
    "def seg_text(text):\n",
    "    sent_detector = nltk.data.load('tokenizers/punkt/english.pickle')\n",
    "    ss = sent_detector.tokenize(text.strip())\n",
    "    return ss\n"
   ]
  },
  {
   "cell_type": "code",
   "execution_count": 173,
   "metadata": {
    "collapsed": true
   },
   "outputs": [],
   "source": [
    "def dep_parse(text, _parser):\n",
    "    \n",
    "    sents = seg_text(text)\n",
    "    depg = _parser.raw_parse_sents(sents)\n",
    "    for g in depg:\n",
    "        g = list(g)\n",
    "        for node in g[0].nodes:\n",
    "            node = g[0].nodes[node]\n",
    "            for dep in node['deps']:\n",
    "                if dep == 'compound':\n",
    "                    print('-'*15)\n",
    "                    print(node)\n"
   ]
  },
  {
   "cell_type": "code",
   "execution_count": 174,
   "metadata": {
    "collapsed": false,
    "scrolled": true
   },
   "outputs": [
    {
     "name": "stdout",
     "output_type": "stream",
     "text": [
      "---------------\n",
      "{'tag': 'NN', 'word': 'style', 'deps': defaultdict(<class 'list'>, {'compound': [14]}), 'feats': '_', 'lemma': '_', 'head': 9, 'ctag': 'NN', 'address': 15, 'rel': 'dobj'}\n",
      "---------------\n",
      "{'tag': 'NNS', 'word': 'issues', 'deps': defaultdict(<class 'list'>, {'amod': [13], 'compound': [14]}), 'feats': '_', 'lemma': '_', 'head': 12, 'ctag': 'NNS', 'address': 15, 'rel': 'dobj'}\n",
      "---------------\n",
      "{'tag': 'NN', 'word': 'life', 'deps': defaultdict(<class 'list'>, {'amod': [16], 'compound': [17], 'case': [13], 'det': [15]}), 'feats': '_', 'lemma': '_', 'head': 12, 'ctag': 'NN', 'address': 18, 'rel': 'nmod'}\n"
     ]
    }
   ],
   "source": [
    "tt = '''\n",
    "I previously purchased a 13\" macbook (had pro specs and was aluminum style) which had a\n",
    "nvidia 9800 (If I am not mistaken) and it had major heating issues. The battery doesn't \n",
    "last long but I'm sure an upgrade battery would solve that problem.\n",
    "I charge it at night and skip taking the cord with me because of the good battery life.\n",
    "'''\n",
    "dep_parse(tt, dep_parser)"
   ]
  },
  {
   "cell_type": "code",
   "execution_count": null,
   "metadata": {
    "collapsed": true
   },
   "outputs": [],
   "source": []
  }
 ],
 "metadata": {
  "anaconda-cloud": {},
  "kernelspec": {
   "display_name": "Python [Root]",
   "language": "python",
   "name": "Python [Root]"
  },
  "language_info": {
   "codemirror_mode": {
    "name": "ipython",
    "version": 3
   },
   "file_extension": ".py",
   "mimetype": "text/x-python",
   "name": "python",
   "nbconvert_exporter": "python",
   "pygments_lexer": "ipython3",
   "version": "3.5.2"
  }
 },
 "nbformat": 4,
 "nbformat_minor": 0
}
