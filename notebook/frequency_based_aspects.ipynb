{
 "cells": [
  {
   "cell_type": "code",
   "execution_count": 28,
   "metadata": {
    "collapsed": false
   },
   "outputs": [],
   "source": [
    "import json\n",
    "import sys\n",
    "sys.path.insert(0, '../src')\n",
    "from preProcess import pickleFile, pickleFolder\n",
    "import FileOperations\n",
    "(restaurantTrainDict,restaurantTestDict,laptopTrainDict, laptopTestDict) = \\\n",
    "                                FileOperations.loadAndGetRawDataFromPickle(pickleFolder, pickleFile)\n",
    "\n",
    "\n",
    "lptp_train_sentences = laptopTrainDict['sentences']\n",
    "\n",
    "\n",
    "# count word frequence\n",
    "lptp_aspect_dict = {}\n",
    "\n",
    "def put_poss_aspect(aspects, word):\n",
    "    word = word.lower()\n",
    "    if word in aspects:\n",
    "        aspects[word] += 1\n",
    "    else:\n",
    "        aspects[word] = 1\n",
    "\n",
    "# Consider NNP ?\n",
    "for sentence in lptp_train:\n",
    "    for item in sentence:\n",
    "        tag = item[1]\n",
    "        word = item[0]\n",
    "        if tag == 'NN' or tag == 'NNS':\n",
    "            put_aspect(lptp_aspect_dict, word)\n",
    "\n",
    "\n",
    "# remove low frequent words\n",
    "del_list = []\n",
    "for word in lptp_aspect_dict:\n",
    "    freq = lptp_aspect_dict[word]\n",
    "    if freq < 0.01*len(lptp_train):\n",
    "        del_list.append(word)\n",
    "for word in del_list:\n",
    "    del lptp_aspect_dict[word]\n"
   ]
  },
  {
   "cell_type": "code",
   "execution_count": 29,
   "metadata": {
    "collapsed": false
   },
   "outputs": [
    {
     "data": {
      "text/plain": [
       "52"
      ]
     },
     "execution_count": 29,
     "metadata": {},
     "output_type": "execute_result"
    }
   ],
   "source": [
    "len(lptp_aspect_dict)"
   ]
  },
  {
   "cell_type": "code",
   "execution_count": 31,
   "metadata": {
    "collapsed": false
   },
   "outputs": [],
   "source": [
    "# check \n",
    "# load laptop trial data\n",
    "lptp_trial = open('../taged-data/taged-laptops-trial.json.pure', 'r')\n",
    "contents = lptp_trial.readlines()\n",
    "lptp_trial_json = []\n",
    "for line in contents:\n",
    "    lptp_trial_json.append(json.loads(line))\n",
    "lptp_trial.close()\n",
    "lptp_trial = lptp_trial_json\n",
    "\n",
    "# \n",
    "aspects_trial = []\n",
    "for sentence in lptp_trial:\n",
    "    aspects = []\n",
    "    for item in sentence:\n",
    "        word = item[0]\n",
    "        if word in lptp_aspect_dict:\n",
    "            aspects.append(word)\n",
    "    aspects_trial.append(aspects)\n"
   ]
  },
  {
   "cell_type": "code",
   "execution_count": 35,
   "metadata": {
    "collapsed": false
   },
   "outputs": [],
   "source": [
    "# load labeled trial data\n",
    "from bs4 import BeautifulSoup as Soup\n",
    "lptp_trial = Soup(open('../data/laptops-trial.xml', 'r'), \"lxml\")\n",
    "sentences = lptp_trial.findAll('sentence')\n",
    "\n",
    "all_aspects = []\n",
    "for s in sentences:\n",
    "    aspects = s.findAll('aspectterm')\n",
    "    terms = []\n",
    "    for a in aspects:\n",
    "        terms.append(a['term'])\n",
    "    all_aspects.append(terms)\n"
   ]
  },
  {
   "cell_type": "code",
   "execution_count": 36,
   "metadata": {
    "collapsed": false,
    "scrolled": false
   },
   "outputs": [
    {
     "name": "stdout",
     "output_type": "stream",
     "text": [
      "[] ['aluminum body']\n",
      "['screen'] ['screen']\n",
      "['it', 'it', 'it'] []\n",
      "['quality', 'everything', 'it'] ['build quality', 'performance']\n",
      "['everything', 'computer', 'it'] []\n",
      "['it'] []\n",
      "['computer', 'one'] ['costing']\n",
      "['laptop', 'it'] []\n",
      "['laptop'] []\n",
      "[] ['Boots up', 'runs']\n",
      "['it'] ['tech support']\n",
      "[] []\n",
      "[] []\n",
      "['service'] ['service']\n",
      "['it', 'internet', 'thing', 'i'] ['internet speed']\n",
      "[] []\n",
      "['laptop', 'months', 'i', 'im'] []\n",
      "['laptop'] []\n",
      "['screen'] ['screen']\n",
      "[] []\n",
      "['battery', 'life', 'it', 'im'] ['battery life']\n",
      "['price', 'features'] ['price', 'features']\n",
      "['mouse'] ['mouse buttons']\n",
      "['time', 'money'] []\n",
      "['product', 'years'] []\n",
      "['it', 'use'] []\n",
      "[] []\n",
      "[] []\n",
      "[] ['design']\n",
      "['service', 'it'] ['technical service']\n",
      "[] ['built in camera']\n",
      "[] []\n",
      "['use'] ['Keyboard']\n",
      "[] ['wifi']\n",
      "['product'] []\n",
      "[] []\n",
      "['mac'] []\n",
      "[] []\n",
      "[] []\n",
      "[] []\n",
      "[] []\n",
      "['issue'] ['Games']\n",
      "[] []\n",
      "['price', 'laptop'] ['price']\n",
      "['it', 'price', 'it', 'software', 'it'] ['price tag', 'software', 'updates']\n",
      "['product', 'price'] ['price']\n",
      "[] ['speed']\n",
      "['laptop'] []\n",
      "['it'] []\n",
      "[] ['twin packing', 'functions']\n",
      "['laptop'] ['switchable graphic card', 'gaming']\n",
      "['battery', 'life'] ['battery life']\n",
      "['problem'] []\n",
      "['drive'] ['speed', 'hard drive space']\n",
      "['issue'] ['driver updates']\n",
      "['everything', 'problem'] []\n",
      "[] []\n",
      "['it', 'features', 'it'] ['features']\n",
      "['its'] []\n",
      "['power', 'computer', 'it'] []\n",
      "['laptop', 'its'] ['performance']\n",
      "['way'] []\n",
      "[] []\n",
      "['it', 'i', 'it'] []\n",
      "['it', 'it', 'it'] []\n",
      "['its', 'it'] []\n",
      "[] []\n",
      "['product'] []\n",
      "[] ['GarageBand']\n",
      "['mac', 'laptop', 'price'] ['price']\n",
      "['product'] []\n",
      "['laptop', 'it'] []\n",
      "[] []\n",
      "['it'] []\n",
      "[] []\n",
      "[] []\n",
      "[] []\n",
      "['laptop', 'it', 'way', 'i', 'it'] []\n",
      "['work'] []\n",
      "[] []\n",
      "['money', 'its'] []\n",
      "['it', 'it'] []\n",
      "[] []\n",
      "[] []\n",
      "['warranty', 'problem'] ['extended warranty']\n",
      "['machine'] ['support']\n",
      "['laptop'] []\n",
      "[] []\n",
      "['screen'] ['glass screen']\n",
      "[] ['technical support']\n",
      "['work', 'it', 'laptop'] []\n",
      "['laptop'] []\n",
      "['it', 'it', 'problems'] []\n",
      "['computer'] ['staff']\n",
      "['product'] []\n",
      "['computer'] []\n",
      "['thing', 'mac', 'programs'] ['programs']\n",
      "['issue'] ['Wireless']\n",
      "['battery', 'life', 'programs'] ['battery life', 'background programs']\n",
      "['price'] ['price']\n"
     ]
    }
   ],
   "source": [
    "# combine for easy comparing\n",
    "for i in range(len(aspects_trial)):\n",
    "    print(aspects_trial[i], all_aspects[i])"
   ]
  },
  {
   "cell_type": "code",
   "execution_count": 1,
   "metadata": {
    "collapsed": false
   },
   "outputs": [
    {
     "ename": "SyntaxError",
     "evalue": "invalid syntax (<ipython-input-1-2b6ecef984b6>, line 1)",
     "output_type": "error",
     "traceback": [
      "\u001b[0;36m  File \u001b[0;32m\"<ipython-input-1-2b6ecef984b6>\"\u001b[0;36m, line \u001b[0;32m1\u001b[0m\n\u001b[0;31m    from ../src/preProcess import pickleFile, pickleFolder\u001b[0m\n\u001b[0m           ^\u001b[0m\n\u001b[0;31mSyntaxError\u001b[0m\u001b[0;31m:\u001b[0m invalid syntax\n"
     ]
    }
   ],
   "source": [
    "from ../src/preProcess import pickleFile, pickleFolder"
   ]
  },
  {
   "cell_type": "code",
   "execution_count": 2,
   "metadata": {
    "collapsed": true
   },
   "outputs": [],
   "source": [
    "import sys\n",
    "sys.path.insert(0, '../src')"
   ]
  },
  {
   "cell_type": "code",
   "execution_count": 3,
   "metadata": {
    "collapsed": false
   },
   "outputs": [
    {
     "name": "stdout",
     "output_type": "stream",
     "text": [
      "all data loaded in python dicts\n"
     ]
    }
   ],
   "source": [
    "from preProcess import pickleFile, pickleFolder\n",
    "import FileOperations\n",
    "(restaurantTrainDict,restaurantTestDict,laptopTrainDict, laptopTestDict) = \\\n",
    "                                FileOperations.loadAndGetRawDataFromPickle(pickleFolder, pickleFile)"
   ]
  },
  {
   "cell_type": "code",
   "execution_count": 10,
   "metadata": {
    "collapsed": false
   },
   "outputs": [
    {
     "data": {
      "text/plain": [
       "[('But', 'CC'),\n",
       " ('the', 'DT'),\n",
       " ('staff', 'NN'),\n",
       " ('was', 'VBD'),\n",
       " ('so', 'RB'),\n",
       " ('horrible', 'JJ'),\n",
       " ('to', 'TO'),\n",
       " ('us.', 'VB')]"
      ]
     },
     "execution_count": 10,
     "metadata": {},
     "output_type": "execute_result"
    }
   ],
   "source": [
    "restaurantTrainDict['sentences']['sentence'][0]['POStaggedText']"
   ]
  },
  {
   "cell_type": "code",
   "execution_count": 26,
   "metadata": {
    "collapsed": false
   },
   "outputs": [],
   "source": [
    "from imp import reload\n",
    "import frequencyBased as fqb\n",
    "fqb = reload(fqb)"
   ]
  },
  {
   "cell_type": "code",
   "execution_count": 27,
   "metadata": {
    "collapsed": false
   },
   "outputs": [
    {
     "name": "stdout",
     "output_type": "stream",
     "text": [
      "all data loaded in python dicts\n"
     ]
    }
   ],
   "source": [
    "rst_asp, lptp_asp = fqb.get_vocabulary()"
   ]
  },
  {
   "cell_type": "code",
   "execution_count": 28,
   "metadata": {
    "collapsed": false
   },
   "outputs": [
    {
     "data": {
      "text/plain": [
       "3303"
      ]
     },
     "execution_count": 28,
     "metadata": {},
     "output_type": "execute_result"
    }
   ],
   "source": [
    "len(lptp_asp)"
   ]
  },
  {
   "cell_type": "code",
   "execution_count": 30,
   "metadata": {
    "collapsed": false
   },
   "outputs": [],
   "source": [
    "from nltk.parse.stanford import StanfordDependencyParser\n",
    "import os\n",
    "os.environ['CLASSPATH']='/Users/zarzen/Development/stanford-parser-full-2015-12-09'\n",
    "\n",
    "dep_parser=StanfordDependencyParser(model_path=\"edu/stanford/nlp/models/lexparser/englishPCFG.ser.gz\")"
   ]
  },
  {
   "cell_type": "code",
   "execution_count": 33,
   "metadata": {
    "collapsed": false
   },
   "outputs": [
    {
     "data": {
      "text/plain": [
       "[Tree('jumps', [Tree('fox', ['The', 'quick', 'brown']), Tree('dog', ['over', 'the', 'lazy'])])]"
      ]
     },
     "execution_count": 33,
     "metadata": {},
     "output_type": "execute_result"
    }
   ],
   "source": [
    "[parse.tree() for parse in dep_parser.raw_parse(\"The quick brown fox jumps over the lazy dog.\")] "
   ]
  },
  {
   "cell_type": "code",
   "execution_count": 56,
   "metadata": {
    "collapsed": false
   },
   "outputs": [
    {
     "name": "stdout",
     "output_type": "stream",
     "text": [
      "[('But', 'CC'), ('the', 'DT'), ('staff', 'NN'), ('was', 'VBD'), ('so', 'RB'), ('horrible', 'JJ'), ('to', 'TO'), ('us.', 'VB')]\n",
      "defaultdict(<function DependencyGraph.__init__.<locals>.<lambda> at 0x1129edc80>,\n",
      "            {0: {'address': 0,\n",
      "                 'ctag': 'TOP',\n",
      "                 'deps': defaultdict(<class 'list'>, {'root': [6]}),\n",
      "                 'feats': None,\n",
      "                 'head': None,\n",
      "                 'lemma': None,\n",
      "                 'rel': None,\n",
      "                 'tag': 'TOP',\n",
      "                 'word': None},\n",
      "             1: {'address': 1,\n",
      "                 'ctag': 'CC',\n",
      "                 'deps': defaultdict(<class 'list'>, {}),\n",
      "                 'feats': '_',\n",
      "                 'head': 6,\n",
      "                 'lemma': '_',\n",
      "                 'rel': 'cc',\n",
      "                 'tag': 'CC',\n",
      "                 'word': 'But'},\n",
      "             2: {'address': 2,\n",
      "                 'ctag': 'DT',\n",
      "                 'deps': defaultdict(<class 'list'>, {}),\n",
      "                 'feats': '_',\n",
      "                 'head': 3,\n",
      "                 'lemma': '_',\n",
      "                 'rel': 'det',\n",
      "                 'tag': 'DT',\n",
      "                 'word': 'the'},\n",
      "             3: {'address': 3,\n",
      "                 'ctag': 'NN',\n",
      "                 'deps': defaultdict(<class 'list'>, {'det': [2]}),\n",
      "                 'feats': '_',\n",
      "                 'head': 6,\n",
      "                 'lemma': '_',\n",
      "                 'rel': 'nsubj',\n",
      "                 'tag': 'NN',\n",
      "                 'word': 'staff'},\n",
      "             4: {'address': 4,\n",
      "                 'ctag': 'VBD',\n",
      "                 'deps': defaultdict(<class 'list'>, {}),\n",
      "                 'feats': '_',\n",
      "                 'head': 6,\n",
      "                 'lemma': '_',\n",
      "                 'rel': 'cop',\n",
      "                 'tag': 'VBD',\n",
      "                 'word': 'was'},\n",
      "             5: {'address': 5,\n",
      "                 'ctag': 'RB',\n",
      "                 'deps': defaultdict(<class 'list'>, {}),\n",
      "                 'feats': '_',\n",
      "                 'head': 6,\n",
      "                 'lemma': '_',\n",
      "                 'rel': 'advmod',\n",
      "                 'tag': 'RB',\n",
      "                 'word': 'so'},\n",
      "             6: {'address': 6,\n",
      "                 'ctag': 'JJ',\n",
      "                 'deps': defaultdict(<class 'list'>,\n",
      "                                     {'advmod': [5],\n",
      "                                      'cc': [1],\n",
      "                                      'cop': [4],\n",
      "                                      'nsubj': [3],\n",
      "                                      'xcomp': [8]}),\n",
      "                 'feats': '_',\n",
      "                 'head': 0,\n",
      "                 'lemma': '_',\n",
      "                 'rel': 'root',\n",
      "                 'tag': 'JJ',\n",
      "                 'word': 'horrible'},\n",
      "             7: {'address': 7,\n",
      "                 'ctag': 'TO',\n",
      "                 'deps': defaultdict(<class 'list'>, {}),\n",
      "                 'feats': '_',\n",
      "                 'head': 8,\n",
      "                 'lemma': '_',\n",
      "                 'rel': 'mark',\n",
      "                 'tag': 'TO',\n",
      "                 'word': 'to'},\n",
      "             8: {'address': 8,\n",
      "                 'ctag': 'VB',\n",
      "                 'deps': defaultdict(<class 'list'>, {'mark': [7]}),\n",
      "                 'feats': '_',\n",
      "                 'head': 6,\n",
      "                 'lemma': '_',\n",
      "                 'rel': 'xcomp',\n",
      "                 'tag': 'VB',\n",
      "                 'word': 'us.'}})\n"
     ]
    }
   ],
   "source": [
    "sss = restaurantTrainDict['sentences']['sentence'][0]['POStaggedText']\n",
    "print(sss)\n",
    "dep_g = dep_parser.tagged_parse(sss)\n",
    "#print(dep_parser._make_tree(dep_g))\n",
    "\n",
    "for i in dep_g:\n",
    "    print(i)"
   ]
  },
  {
   "cell_type": "code",
   "execution_count": 52,
   "metadata": {
    "collapsed": false
   },
   "outputs": [
    {
     "data": {
      "text/plain": [
       "{'POStaggedText': [('But', 'CC'),\n",
       "  ('the', 'DT'),\n",
       "  ('staff', 'NN'),\n",
       "  ('was', 'VBD'),\n",
       "  ('so', 'RB'),\n",
       "  ('horrible', 'JJ'),\n",
       "  ('to', 'TO'),\n",
       "  ('us.', 'VB')],\n",
       " 'aspectCategories': {'aspectCategory': {'@category': 'service',\n",
       "   '@polarity': 'negative'}},\n",
       " 'aspectTerms': {'aspectTerm': {'@from': '8',\n",
       "   '@polarity': 'negative',\n",
       "   '@term': 'staff',\n",
       "   '@to': '13'}},\n",
       " 'text': 'But the staff was so horrible to us.'}"
      ]
     },
     "execution_count": 52,
     "metadata": {},
     "output_type": "execute_result"
    }
   ],
   "source": [
    "restaurantTrainDict['sentences']['sentence'][0]"
   ]
  },
  {
   "cell_type": "code",
   "execution_count": 55,
   "metadata": {
    "collapsed": false
   },
   "outputs": [
    {
     "name": "stdout",
     "output_type": "stream",
     "text": [
      "defaultdict(<function DependencyGraph.__init__.<locals>.<lambda> at 0x1129ede18>,\n",
      "            {0: {'address': 0,\n",
      "                 'ctag': 'TOP',\n",
      "                 'deps': defaultdict(<class 'list'>, {'root': [6]}),\n",
      "                 'feats': None,\n",
      "                 'head': None,\n",
      "                 'lemma': None,\n",
      "                 'rel': None,\n",
      "                 'tag': 'TOP',\n",
      "                 'word': None},\n",
      "             1: {'address': 1,\n",
      "                 'ctag': 'CC',\n",
      "                 'deps': defaultdict(<class 'list'>, {}),\n",
      "                 'feats': '_',\n",
      "                 'head': 6,\n",
      "                 'lemma': '_',\n",
      "                 'rel': 'cc',\n",
      "                 'tag': 'CC',\n",
      "                 'word': 'But'},\n",
      "             2: {'address': 2,\n",
      "                 'ctag': 'DT',\n",
      "                 'deps': defaultdict(<class 'list'>, {}),\n",
      "                 'feats': '_',\n",
      "                 'head': 3,\n",
      "                 'lemma': '_',\n",
      "                 'rel': 'det',\n",
      "                 'tag': 'DT',\n",
      "                 'word': 'the'},\n",
      "             3: {'address': 3,\n",
      "                 'ctag': 'NN',\n",
      "                 'deps': defaultdict(<class 'list'>, {'det': [2]}),\n",
      "                 'feats': '_',\n",
      "                 'head': 6,\n",
      "                 'lemma': '_',\n",
      "                 'rel': 'nsubj',\n",
      "                 'tag': 'NN',\n",
      "                 'word': 'staff'},\n",
      "             4: {'address': 4,\n",
      "                 'ctag': 'VBD',\n",
      "                 'deps': defaultdict(<class 'list'>, {}),\n",
      "                 'feats': '_',\n",
      "                 'head': 6,\n",
      "                 'lemma': '_',\n",
      "                 'rel': 'cop',\n",
      "                 'tag': 'VBD',\n",
      "                 'word': 'was'},\n",
      "             5: {'address': 5,\n",
      "                 'ctag': 'RB',\n",
      "                 'deps': defaultdict(<class 'list'>, {}),\n",
      "                 'feats': '_',\n",
      "                 'head': 6,\n",
      "                 'lemma': '_',\n",
      "                 'rel': 'advmod',\n",
      "                 'tag': 'RB',\n",
      "                 'word': 'so'},\n",
      "             6: {'address': 6,\n",
      "                 'ctag': 'JJ',\n",
      "                 'deps': defaultdict(<class 'list'>,\n",
      "                                     {'advmod': [5],\n",
      "                                      'cc': [1],\n",
      "                                      'cop': [4],\n",
      "                                      'nmod': [8],\n",
      "                                      'nsubj': [3]}),\n",
      "                 'feats': '_',\n",
      "                 'head': 0,\n",
      "                 'lemma': '_',\n",
      "                 'rel': 'root',\n",
      "                 'tag': 'JJ',\n",
      "                 'word': 'horrible'},\n",
      "             7: {'address': 7,\n",
      "                 'ctag': 'TO',\n",
      "                 'deps': defaultdict(<class 'list'>, {}),\n",
      "                 'feats': '_',\n",
      "                 'head': 8,\n",
      "                 'lemma': '_',\n",
      "                 'rel': 'case',\n",
      "                 'tag': 'TO',\n",
      "                 'word': 'to'},\n",
      "             8: {'address': 8,\n",
      "                 'ctag': 'PRP',\n",
      "                 'deps': defaultdict(<class 'list'>, {'case': [7]}),\n",
      "                 'feats': '_',\n",
      "                 'head': 6,\n",
      "                 'lemma': '_',\n",
      "                 'rel': 'nmod',\n",
      "                 'tag': 'PRP',\n",
      "                 'word': 'us'}})\n"
     ]
    }
   ],
   "source": [
    "gg = dep_parser.raw_parse('But the staff was so horrible to us.')\n",
    "for i in gg:\n",
    "    print(i)"
   ]
  },
  {
   "cell_type": "code",
   "execution_count": null,
   "metadata": {
    "collapsed": true
   },
   "outputs": [],
   "source": []
  }
 ],
 "metadata": {
  "anaconda-cloud": {},
  "kernelspec": {
   "display_name": "Python [Root]",
   "language": "python",
   "name": "Python [Root]"
  },
  "language_info": {
   "codemirror_mode": {
    "name": "ipython",
    "version": 3
   },
   "file_extension": ".py",
   "mimetype": "text/x-python",
   "name": "python",
   "nbconvert_exporter": "python",
   "pygments_lexer": "ipython3",
   "version": "3.5.2"
  }
 },
 "nbformat": 4,
 "nbformat_minor": 0
}
