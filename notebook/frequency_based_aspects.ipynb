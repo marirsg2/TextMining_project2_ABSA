{
 "cells": [
  {
   "cell_type": "code",
   "execution_count": 28,
   "metadata": {
    "collapsed": false
   },
   "outputs": [],
   "source": [
    "import json\n",
    "\n",
    "lptp_train = open('../taged-data/taged-Laptops_Train.json.pure', 'r')\n",
    "\n",
    "# load data laptop\n",
    "lptp_train_json = []\n",
    "lptp_f_contents = lptp_train.readlines()\n",
    "for line in lptp_f_contents:\n",
    "    lptp_train_json.append(json.loads(line))\n",
    "lptp_train.close()\n",
    "lptp_train = lptp_train_json\n",
    "\n",
    "\n",
    "# count word frequence\n",
    "lptp_aspect_dict = {}\n",
    "def put_aspect(word):\n",
    "    word = word.lower()\n",
    "    if word in lptp_aspect_dict:\n",
    "        lptp_aspect_dict[word] += 1\n",
    "    else:\n",
    "        lptp_aspect_dict[word] = 1\n",
    "\n",
    "# Consider NNP ?\n",
    "for sentence in lptp_train:\n",
    "    for item in sentence:\n",
    "        tag = item[1]\n",
    "        word = item[0]\n",
    "        if tag == 'NN' or tag == 'NNS':\n",
    "            put_aspect(word)\n",
    "#         elif tag == 'JJ' or tag == 'JJR' or tag == 'JJS':\n",
    "#             put_aspect(word)\n",
    "\n",
    "\n",
    "# remove low frequent words\n",
    "del_list = []\n",
    "for word in lptp_aspect_dict:\n",
    "    freq = lptp_aspect_dict[word]\n",
    "    if freq < 0.01*len(lptp_train):\n",
    "        del_list.append(word)\n",
    "for word in del_list:\n",
    "    del lptp_aspect_dict[word]\n"
   ]
  },
  {
   "cell_type": "code",
   "execution_count": 29,
   "metadata": {
    "collapsed": false
   },
   "outputs": [
    {
     "data": {
      "text/plain": [
       "52"
      ]
     },
     "execution_count": 29,
     "metadata": {},
     "output_type": "execute_result"
    }
   ],
   "source": [
    "len(lptp_aspect_dict)"
   ]
  },
  {
   "cell_type": "code",
   "execution_count": 31,
   "metadata": {
    "collapsed": false
   },
   "outputs": [],
   "source": [
    "# check \n",
    "# load laptop trial data\n",
    "lptp_trial = open('../taged-data/taged-laptops-trial.json.pure', 'r')\n",
    "contents = lptp_trial.readlines()\n",
    "lptp_trial_json = []\n",
    "for line in contents:\n",
    "    lptp_trial_json.append(json.loads(line))\n",
    "lptp_trial.close()\n",
    "lptp_trial = lptp_trial_json\n",
    "\n",
    "# \n",
    "aspects_trial = []\n",
    "for sentence in lptp_trial:\n",
    "    aspects = []\n",
    "    for item in sentence:\n",
    "        word = item[0]\n",
    "        if word in lptp_aspect_dict:\n",
    "            aspects.append(word)\n",
    "    aspects_trial.append(aspects)\n"
   ]
  },
  {
   "cell_type": "code",
   "execution_count": 35,
   "metadata": {
    "collapsed": false
   },
   "outputs": [],
   "source": [
    "# load labeled trial data\n",
    "from bs4 import BeautifulSoup as Soup\n",
    "lptp_trial = Soup(open('../data/laptops-trial.xml', 'r'), \"lxml\")\n",
    "sentences = lptp_trial.findAll('sentence')\n",
    "\n",
    "all_aspects = []\n",
    "for s in sentences:\n",
    "    aspects = s.findAll('aspectterm')\n",
    "    terms = []\n",
    "    for a in aspects:\n",
    "        terms.append(a['term'])\n",
    "    all_aspects.append(terms)\n"
   ]
  },
  {
   "cell_type": "code",
   "execution_count": 36,
   "metadata": {
    "collapsed": false
   },
   "outputs": [
    {
     "name": "stdout",
     "output_type": "stream",
     "text": [
      "[] ['aluminum body']\n",
      "['screen'] ['screen']\n",
      "['it', 'it', 'it'] []\n",
      "['quality', 'everything', 'it'] ['build quality', 'performance']\n",
      "['everything', 'computer', 'it'] []\n",
      "['it'] []\n",
      "['computer', 'one'] ['costing']\n",
      "['laptop', 'it'] []\n",
      "['laptop'] []\n",
      "[] ['Boots up', 'runs']\n",
      "['it'] ['tech support']\n",
      "[] []\n",
      "[] []\n",
      "['service'] ['service']\n",
      "['it', 'internet', 'thing', 'i'] ['internet speed']\n",
      "[] []\n",
      "['laptop', 'months', 'i', 'im'] []\n",
      "['laptop'] []\n",
      "['screen'] ['screen']\n",
      "[] []\n",
      "['battery', 'life', 'it', 'im'] ['battery life']\n",
      "['price', 'features'] ['price', 'features']\n",
      "['mouse'] ['mouse buttons']\n",
      "['time', 'money'] []\n",
      "['product', 'years'] []\n",
      "['it', 'use'] []\n",
      "[] []\n",
      "[] []\n",
      "[] ['design']\n",
      "['service', 'it'] ['technical service']\n",
      "[] ['built in camera']\n",
      "[] []\n",
      "['use'] ['Keyboard']\n",
      "[] ['wifi']\n",
      "['product'] []\n",
      "[] []\n",
      "['mac'] []\n",
      "[] []\n",
      "[] []\n",
      "[] []\n",
      "[] []\n",
      "['issue'] ['Games']\n",
      "[] []\n",
      "['price', 'laptop'] ['price']\n",
      "['it', 'price', 'it', 'software', 'it'] ['price tag', 'software', 'updates']\n",
      "['product', 'price'] ['price']\n",
      "[] ['speed']\n",
      "['laptop'] []\n",
      "['it'] []\n",
      "[] ['twin packing', 'functions']\n",
      "['laptop'] ['switchable graphic card', 'gaming']\n",
      "['battery', 'life'] ['battery life']\n",
      "['problem'] []\n",
      "['drive'] ['speed', 'hard drive space']\n",
      "['issue'] ['driver updates']\n",
      "['everything', 'problem'] []\n",
      "[] []\n",
      "['it', 'features', 'it'] ['features']\n",
      "['its'] []\n",
      "['power', 'computer', 'it'] []\n",
      "['laptop', 'its'] ['performance']\n",
      "['way'] []\n",
      "[] []\n",
      "['it', 'i', 'it'] []\n",
      "['it', 'it', 'it'] []\n",
      "['its', 'it'] []\n",
      "[] []\n",
      "['product'] []\n",
      "[] ['GarageBand']\n",
      "['mac', 'laptop', 'price'] ['price']\n",
      "['product'] []\n",
      "['laptop', 'it'] []\n",
      "[] []\n",
      "['it'] []\n",
      "[] []\n",
      "[] []\n",
      "[] []\n",
      "['laptop', 'it', 'way', 'i', 'it'] []\n",
      "['work'] []\n",
      "[] []\n",
      "['money', 'its'] []\n",
      "['it', 'it'] []\n",
      "[] []\n",
      "[] []\n",
      "['warranty', 'problem'] ['extended warranty']\n",
      "['machine'] ['support']\n",
      "['laptop'] []\n",
      "[] []\n",
      "['screen'] ['glass screen']\n",
      "[] ['technical support']\n",
      "['work', 'it', 'laptop'] []\n",
      "['laptop'] []\n",
      "['it', 'it', 'problems'] []\n",
      "['computer'] ['staff']\n",
      "['product'] []\n",
      "['computer'] []\n",
      "['thing', 'mac', 'programs'] ['programs']\n",
      "['issue'] ['Wireless']\n",
      "['battery', 'life', 'programs'] ['battery life', 'background programs']\n",
      "['price'] ['price']\n"
     ]
    }
   ],
   "source": [
    "# combine for easy comparing\n",
    "for i in range(len(aspects_trial)):\n",
    "    print(aspects_trial[i], all_aspects[i])"
   ]
  },
  {
   "cell_type": "code",
   "execution_count": null,
   "metadata": {
    "collapsed": true
   },
   "outputs": [],
   "source": []
  }
 ],
 "metadata": {
  "anaconda-cloud": {},
  "kernelspec": {
   "display_name": "Python 2",
   "language": "python",
   "name": "python2"
  },
  "language_info": {
   "codemirror_mode": {
    "name": "ipython",
    "version": 2
   },
   "file_extension": ".py",
   "mimetype": "text/x-python",
   "name": "python",
   "nbconvert_exporter": "python",
   "pygments_lexer": "ipython2",
   "version": "2.7.11"
  }
 },
 "nbformat": 4,
 "nbformat_minor": 0
}
