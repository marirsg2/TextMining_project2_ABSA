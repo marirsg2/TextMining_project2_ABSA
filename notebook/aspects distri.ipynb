{
 "cells": [
  {
   "cell_type": "code",
   "execution_count": 3,
   "metadata": {
    "collapsed": false
   },
   "outputs": [
    {
     "name": "stdout",
     "output_type": "stream",
     "text": [
      "all data loaded in python dicts\n"
     ]
    }
   ],
   "source": [
    "import sys\n",
    "sys.path.insert(0, '../src')\n",
    "pickleFolder = '../PickledData/'\n",
    "pickleFile = 'preProcessedData.p'\n",
    "import file_operations\n",
    "\n",
    "\n",
    "\n",
    "(restaurantTrainDict,restaurantTestDict,laptopTrainDict, laptopTestDict)\\\n",
    "    = file_operations.loadAndGetRawDataFromPickle(pickleFolder, pickleFile)\n",
    "rst_train_sentences = restaurantTrainDict['sentences']['sentence']\n",
    "lptp_train_sentences = laptopTrainDict['sentences']['sentence']\n",
    "\n",
    "rst_all_asp = {}\n",
    "lptp_all_asp = {}\n",
    "def put_word2dict(aspects, word):\n",
    "    word = word.lower()\n",
    "    if word in aspects:\n",
    "        aspects[word] += 1\n",
    "    else:\n",
    "        aspects[word] = 1\n",
    "\n",
    "def get_aspects(sent):\n",
    "    ret = []\n",
    "    if 'aspectTerms' in sent:\n",
    "        aspects = sent['aspectTerms']\n",
    "        aspects = aspects['aspectTerm']\n",
    "        if type(aspects) == list:\n",
    "            for asp in aspects:\n",
    "                ret.append(asp['@term'])\n",
    "        else:\n",
    "            aspect_word = aspects['@term']\n",
    "            ret.append(aspect_word)\n",
    "    else:\n",
    "        # print(sent)\n",
    "        pass\n",
    "    return ret\n",
    "for sent in rst_train_sentences:\n",
    "    aspects = get_aspects(sent)\n",
    "    for a in aspects:\n",
    "        put_word2dict(rst_all_asp, a)\n",
    "\n",
    "for sent in lptp_train_sentences:\n",
    "    aspects = get_aspects(sent)\n",
    "    for a in aspects:\n",
    "        put_word2dict(lptp_all_asp, a)\n"
   ]
  },
  {
   "cell_type": "code",
   "execution_count": 5,
   "metadata": {
    "collapsed": false,
    "scrolled": true
   },
   "outputs": [
    {
     "data": {
      "text/plain": [
       "1219"
      ]
     },
     "execution_count": 5,
     "metadata": {},
     "output_type": "execute_result"
    }
   ],
   "source": [
    "len(rst_all_asp)"
   ]
  },
  {
   "cell_type": "code",
   "execution_count": 17,
   "metadata": {
    "collapsed": false
   },
   "outputs": [
    {
     "data": {
      "text/plain": [
       "<Container object of 1219 artists>"
      ]
     },
     "execution_count": 17,
     "metadata": {},
     "output_type": "execute_result"
    },
    {
     "data": {
      "image/png": "[encoded data removed]",
      "text/plain": [
       "<matplotlib.figure.Figure at 0x1285cccc0>"
      ]
     },
     "metadata": {},
     "output_type": "display_data"
    }
   ],
   "source": [
    "%matplotlib inline \n",
    "import matplotlib.pyplot as plt\n",
    "import numpy as np\n",
    "\n",
    "rst_asp_freq = []\n",
    "\n",
    "for word in rst_all_asp:\n",
    "    rst_asp_freq.append(rst_all_asp[word])\n",
    "\n",
    "bar_width = 0.2\n",
    "index = np.arange(len(rst_asp_freq))\n",
    "axes = plt.gca()\n",
    "axes.set_ylim([0, 70])\n",
    "plt.bar(index, rst_asp_freq, color='b')"
   ]
  },
  {
   "cell_type": "code",
   "execution_count": 18,
   "metadata": {
    "collapsed": false
   },
   "outputs": [
    {
     "data": {
      "text/plain": [
       "<Container object of 959 artists>"
      ]
     },
     "execution_count": 18,
     "metadata": {},
     "output_type": "execute_result"
    },
    {
     "data": {
      "image/png": "[encoded data removed]",
      "text/plain": [
       "<matplotlib.figure.Figure at 0x125bac2b0>"
      ]
     },
     "metadata": {},
     "output_type": "display_data"
    }
   ],
   "source": [
    "lptp_asp_freq = []\n",
    "for word in lptp_all_asp:\n",
    "    lptp_asp_freq.append(lptp_all_asp[word])\n",
    "index2 = np.arange(len(lptp_asp_freq))\n",
    "plt.bar(index2, lptp_asp_freq)"
   ]
  },
  {
   "cell_type": "code",
   "execution_count": null,
   "metadata": {
    "collapsed": true
   },
   "outputs": [],
   "source": []
  }
 ],
 "metadata": {
  "kernelspec": {
   "display_name": "Python [Root]",
   "language": "python",
   "name": "Python [Root]"
  },
  "language_info": {
   "codemirror_mode": {
    "name": "ipython",
    "version": 3
   },
   "file_extension": ".py",
   "mimetype": "text/x-python",
   "name": "python",
   "nbconvert_exporter": "python",
   "pygments_lexer": "ipython3",
   "version": "3.5.2"
  }
 },
 "nbformat": 4,
 "nbformat_minor": 0
}
