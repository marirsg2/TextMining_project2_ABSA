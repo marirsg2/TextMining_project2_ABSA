{
 "cells": [
  {
   "cell_type": "code",
   "execution_count": 1,
   "metadata": {
    "collapsed": false
   },
   "outputs": [
    {
     "name": "stdout",
     "output_type": "stream",
     "text": [
      "all data loaded in python dicts\n"
     ]
    }
   ],
   "source": [
    "import sys\n",
    "sys.path.insert(0, '../src')\n",
    "pickleFolder = '../PickledData/'\n",
    "pickleFile = 'preProcessedData.p'\n",
    "import file_operations\n",
    "\n",
    "\n",
    "\n",
    "(restaurantTrainDict,restaurantTestDict,laptopTrainDict, laptopTestDict)\\\n",
    "    = file_operations.loadAndGetRawDataFromPickle(pickleFolder, pickleFile)\n",
    "rst_train_sentences = restaurantTrainDict['sentences']['sentence']\n",
    "lptp_train_sentences = laptopTrainDict['sentences']['sentence']"
   ]
  },
  {
   "cell_type": "code",
   "execution_count": 14,
   "metadata": {
    "collapsed": false,
    "scrolled": false
   },
   "outputs": [
    {
     "data": {
      "text/plain": [
       "2"
      ]
     },
     "execution_count": 14,
     "metadata": {},
     "output_type": "execute_result"
    }
   ],
   "source": [
    "len(rst_train_sentences[1]['aspectCategories']['aspectCategory'])\n"
   ]
  },
  {
   "cell_type": "code",
   "execution_count": 20,
   "metadata": {
    "collapsed": false
   },
   "outputs": [
    {
     "data": {
      "text/plain": [
       "{'aspectCategory': [{'@category': 'food', '@polarity': 'positive'},\n",
       "  {'@category': 'anecdotes/miscellaneous', '@polarity': 'negative'}]}"
      ]
     },
     "execution_count": 20,
     "metadata": {},
     "output_type": "execute_result"
    }
   ],
   "source": [
    "rst_train_sentences[1]['aspectCategories']"
   ]
  },
  {
   "cell_type": "code",
   "execution_count": 37,
   "metadata": {
    "collapsed": false
   },
   "outputs": [
    {
     "name": "stdout",
     "output_type": "stream",
     "text": [
      "one category: 2468\n",
      "one category and one aspect: 886\n",
      "one category and multi aspects: 593\n",
      "one category and No aspect: 989\n",
      "multi categories: 576\n",
      "multi categories and one aspect: 138\n",
      "multi categories and multi aspects: 406\n",
      "multi categories and No aspect: 32\n"
     ]
    }
   ],
   "source": [
    "one_category_c = 0\n",
    "one_cate_one_asp = 0\n",
    "one_cate_multi_asp = 0\n",
    "\n",
    "multi_cate = 0\n",
    "multi_cate_one_asp = 0\n",
    "multi_cate_multi_asp = 0\n",
    "for sent in rst_train_sentences:\n",
    "    categories = sent['aspectCategories']['aspectCategory']\n",
    "    if type(categories) is dict:\n",
    "        one_category_c += 1\n",
    "        if 'aspectTerms' in sent:\n",
    "            # print(sent['aspectTerms'])\n",
    "            aspects = sent['aspectTerms']['aspectTerm']\n",
    "            if type(aspects) is dict:\n",
    "                one_cate_one_asp += 1\n",
    "            else:\n",
    "                one_cate_multi_asp += 1\n",
    "    elif type(categories) is list:\n",
    "        # print(categories)\n",
    "        multi_cate += 1\n",
    "        if 'aspectTerms' in sent:\n",
    "            # print(sent['aspectTerms'])\n",
    "            aspects = sent['aspectTerms']['aspectTerm']\n",
    "            if type(aspects) is dict:\n",
    "                multi_cate_one_asp += 1\n",
    "            else:\n",
    "                multi_cate_multi_asp += 1\n",
    "        \n",
    "print(\"one category: {0}\".format(one_category_c))\n",
    "print('one category and one aspect: {0}'.format(one_cate_one_asp))\n",
    "print('one category and multi aspects: {0}'.format(one_cate_multi_asp))\n",
    "print('one category and No aspect: {0}'.format(one_category_c - one_cate_one_asp - one_cate_multi_asp))\n",
    "\n",
    "print('multi categories: {0}'.format(multi_cate))\n",
    "print('multi categories and one aspect: {0}'.format(multi_cate_one_asp))\n",
    "print('multi categories and multi aspects: {0}'.format(multi_cate_multi_asp))\n",
    "print('multi categories and No aspect: {0}'.format(multi_cate - multi_cate_one_asp - multi_cate_multi_asp))\n",
    "\n",
    "\n",
    "\n",
    "\n"
   ]
  },
  {
   "cell_type": "code",
   "execution_count": 22,
   "metadata": {
    "collapsed": false
   },
   "outputs": [
    {
     "data": {
      "text/plain": [
       "2468"
      ]
     },
     "execution_count": 22,
     "metadata": {},
     "output_type": "execute_result"
    }
   ],
   "source": [
    "counter"
   ]
  },
  {
   "cell_type": "code",
   "execution_count": 33,
   "metadata": {
    "collapsed": false
   },
   "outputs": [
    {
     "ename": "KeyError",
     "evalue": "'aspectTerms'",
     "output_type": "error",
     "traceback": [
      "\u001b[0;31m---------------------------------------------------------------------------\u001b[0m",
      "\u001b[0;31mKeyError\u001b[0m                                  Traceback (most recent call last)",
      "\u001b[0;32m<ipython-input-33-d9baa265761a>\u001b[0m in \u001b[0;36m<module>\u001b[0;34m()\u001b[0m\n\u001b[0;32m----> 1\u001b[0;31m \u001b[0mrst_train_sentences\u001b[0m\u001b[0;34m[\u001b[0m\u001b[0;36m4\u001b[0m\u001b[0;34m]\u001b[0m\u001b[0;34m[\u001b[0m\u001b[0;34m'aspectTerms'\u001b[0m\u001b[0;34m]\u001b[0m\u001b[0;34m[\u001b[0m\u001b[0;34m'aspectTerm'\u001b[0m\u001b[0;34m]\u001b[0m\u001b[0;34m\u001b[0m\u001b[0m\n\u001b[0m",
      "\u001b[0;31mKeyError\u001b[0m: 'aspectTerms'"
     ]
    }
   ],
   "source": [
    "rst_train_sentences[4]['aspectTerms']['aspectTerm']"
   ]
  },
  {
   "cell_type": "code",
   "execution_count": 38,
   "metadata": {
    "collapsed": true
   },
   "outputs": [],
   "source": [
    "def put_asp_cate(aspect, category, collector):\n",
    "    \"\"\"\n",
    "    \n",
    "    \"\"\"\n",
    "    if aspect in collector:\n",
    "        cate_dict = collector[aspect]\n",
    "        if category in cate_dict:\n",
    "            cate_dict[category] += 1\n",
    "        else:\n",
    "            cate_dict[category] = 1\n",
    "    else:\n",
    "        collector[aspect] = {}\n",
    "        collector[aspect][category] = 1"
   ]
  },
  {
   "cell_type": "code",
   "execution_count": 41,
   "metadata": {
    "collapsed": false
   },
   "outputs": [],
   "source": [
    "asp_category = {}\n",
    "for sent in rst_train_sentences:\n",
    "    categories = sent['aspectCategories']['aspectCategory']\n",
    "    if type(categories) is dict:\n",
    "        if 'aspectTerms' in sent:\n",
    "            \n",
    "            aspects = sent['aspectTerms']['aspectTerm']\n",
    "            if type(aspects) is dict:\n",
    "#                 print(aspects)\n",
    "                put_asp_cate(aspects['@term'], categories['@category'], asp_category)\n",
    "            else:\n",
    "                for asp in aspects:\n",
    "                    put_asp_cate(asp['@term'], categories['@category'], asp_category)\n",
    "    # contains multiple categories\n",
    "    elif type(categories) is list:\n",
    "        multi_cate += 1\n",
    "        if 'aspectTerms' in sent:\n",
    "            # print(sent['aspectTerms'])\n",
    "            aspects = sent['aspectTerms']['aspectTerm']\n",
    "            if type(aspects) is dict:\n",
    "                for cate in categories:\n",
    "                    put_asp_cate(aspects['@term'], cate['@category'], asp_category)\n",
    "            else:\n",
    "                for cate in categories:\n",
    "                    for asp in aspects:\n",
    "                        put_asp_cate(asp['@term'], cate['@category'], asp_category)\n"
   ]
  },
  {
   "cell_type": "code",
   "execution_count": 45,
   "metadata": {
    "collapsed": false,
    "scrolled": true
   },
   "outputs": [
    {
     "data": {
      "text/plain": [
       "{'ambience': 6,\n",
       " 'anecdotes/miscellaneous': 8,\n",
       " 'food': 50,\n",
       " 'price': 5,\n",
       " 'service': 9}"
      ]
     },
     "execution_count": 45,
     "metadata": {},
     "output_type": "execute_result"
    }
   ],
   "source": [
    "asp_category['menu']"
   ]
  },
  {
   "cell_type": "code",
   "execution_count": 43,
   "metadata": {
    "collapsed": false
   },
   "outputs": [
    {
     "data": {
      "text/plain": [
       "1295"
      ]
     },
     "execution_count": 43,
     "metadata": {},
     "output_type": "execute_result"
    }
   ],
   "source": [
    "len(asp_category)"
   ]
  },
  {
   "cell_type": "code",
   "execution_count": 50,
   "metadata": {
    "collapsed": false
   },
   "outputs": [],
   "source": [
    "asp2category = {}\n",
    "for asp in asp_category:\n",
    "    categories = list(asp_category[asp].keys())\n",
    "    most_freq_category = categories[0]\n",
    "    for cate in categories:\n",
    "        if asp_category[asp][cate] > asp_category[asp][most_freq_category]:\n",
    "            most_freq_category = cate\n",
    "    asp2category[asp] = most_freq_category\n"
   ]
  },
  {
   "cell_type": "code",
   "execution_count": 52,
   "metadata": {
    "collapsed": false
   },
   "outputs": [
    {
     "data": {
      "text/plain": [
       "1295"
      ]
     },
     "execution_count": 52,
     "metadata": {},
     "output_type": "execute_result"
    }
   ],
   "source": [
    "len(asp2category)"
   ]
  },
  {
   "cell_type": "code",
   "execution_count": null,
   "metadata": {
    "collapsed": true
   },
   "outputs": [],
   "source": []
  }
 ],
 "metadata": {
  "kernelspec": {
   "display_name": "Python [Root]",
   "language": "python",
   "name": "Python [Root]"
  },
  "language_info": {
   "codemirror_mode": {
    "name": "ipython",
    "version": 3
   },
   "file_extension": ".py",
   "mimetype": "text/x-python",
   "name": "python",
   "nbconvert_exporter": "python",
   "pygments_lexer": "ipython3",
   "version": "3.5.2"
  }
 },
 "nbformat": 4,
 "nbformat_minor": 0
}
